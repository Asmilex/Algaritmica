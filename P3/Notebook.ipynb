{
 "cells": [
  {
   "cell_type": "code",
   "execution_count": 2,
   "metadata": {},
   "outputs": [],
   "source": [
    "from pyecharts import Line, enable_nteract\n",
    "enable_nteract()\n",
    "\n",
    "\n",
    "attr = [\"1\", \"2\", \"3\", \"4\", \"5\", \"6\"]\n",
    "v1 = [5, 20, 36, 10, 10, 100]\n",
    "v2 = [55, 60, 16, 20, 15, 80]\n",
    "line = Line(\"折线图-面积图示例\")\n",
    "line.add(\"商家A\", attr, v1, is_fill=True, line_opacity=0.2, area_opacity=0.4, symbol=None)\n",
    "line.add(\"商家B\", attr, v2, is_fill=True, area_color='#000', area_opacity=0.3, is_smooth=True)\n",
    "line.render()\n",
    "\n"
   ]
  },
  {
   "cell_type": "code",
   "execution_count": 4,
   "metadata": {
    "scrolled": true
   },
   "outputs": [],
   "source": [
    "from pyecharts import Bar\n",
    "\n",
    "bar = Bar(\"My first bar chart\", \"For our fashion shop client\")\n",
    "bar.add(\"Clothes\", [\"T-shirt\", \"Sweater\", \"Georgette\", \"Trousers\", \"High-heels\", \"Socks\"], [5, 20, 36, 10, 75, 90],\n",
    "        is_more_utils=True)\n",
    "bar.render()\n",
    "\n"
   ]
  },
  {
   "cell_type": "code",
   "execution_count": 6,
   "metadata": {
    "scrolled": false
   },
   "outputs": [],
   "source": [
    "from pyecharts import Graph\n",
    "\n",
    "nodes = [{\"name\": \"N1\", \"symbolSize\": 10}, {\"name\": \"N2\", \"symbolSize\": 20}, {\"name\": \"N3\", \"symbolSize\": 30}, {\"name\": \"N4\", \"symbolSize\": 40}, {\"name\": \"N5\", \"symbolSize\": 50}, {\"name\": \"N6\", \"symbolSize\": 40}, {\"name\": \"N7\", \"symbolSize\": 30}, {\"name\": \"N8\", \"symbolSize\": 20}] \n",
    "\n",
    "links = [] \n",
    "\n",
    "for i in nodes: \n",
    "    for j in nodes: \n",
    "        links.append({\"source\": i.get('name'), \"target\": j.get('name')}) \n",
    "\n",
    "graph = Graph(\"Grafo prueba\") \n",
    "graph.add(\"\", nodes, links, repulsion=40) \n",
    "\n",
    "graph.render()"
   ]
  },
  {
   "cell_type": "code",
   "execution_count": 5,
   "metadata": {},
   "outputs": [
    {
     "name": "stdout",
     "output_type": "stream",
     "text": [
      "Maximizar peso (Contenedores_generados, peso_cargado, contenedores_cargados):\n",
      "\n"
     ]
    }
   ],
   "source": [
    "from pyecharts import Line\n",
    "import numpy as np\n",
    "\n",
    "print (\"Maximizar peso: peso (Contenedores_generados, peso_cargado, contenedores_cargados):\\n\")\n",
    "\n",
    "x_axis = np.arange(50, 1300, 50)\n",
    "\n",
    "file = np.loadtxt(\"./Data/Logs/contenedor_peso.log\")\n",
    "\n",
    "# conseguir la columna con el peso\n",
    "file_weight = np.empty(1250)\n",
    "for j in range(1250):\n",
    "    file_weight[j] = file[j,1]\n",
    "    \n",
    "# Sacar las medias \n",
    "y_axis_weight    = np.empty(len(x_axis))\n",
    "\n",
    "for j in range(len(x_axis)):\n",
    "    y_axis_weight[j] = np.mean(file_weight[j*50:(j+1)*50])\n",
    "\n",
    "# Hacer la gráfica\n",
    "line = Line(\"Optimizar peso cargado: peso\")\n",
    "line.add(\"Peso\", x_axis, y_axis_weight)\n",
    "#line.add(\"Contenedores\", x_axis, y_axis_container)\n",
    "\n",
    "line.render()"
   ]
  },
  {
   "cell_type": "code",
   "execution_count": 9,
   "metadata": {},
   "outputs": [
    {
     "name": "stdout",
     "output_type": "stream",
     "text": [
      "Maximizar peso: contenedores (Contenedores_generados, peso_cargado, contenedores_cargados):\n",
      "\n",
      "[12.7  11.5  11.64 11.72 11.62 11.68 11.5  11.6  11.4  11.54 11.48 11.46\n",
      " 11.48 11.56 11.46 11.54 11.48 11.42 11.36 11.28 11.22 11.32 11.34 11.3\n",
      " 11.24]\n"
     ]
    }
   ],
   "source": [
    "from pyecharts import Line\n",
    "import numpy as np\n",
    "\n",
    "print (\"Maximizar peso: contenedores (Contenedores_generados, peso_cargado, contenedores_cargados):\\n\")\n",
    "\n",
    "x_axis = np.arange(50, 1300, 50)\n",
    "\n",
    "file = np.loadtxt(\"./Data/Logs/contenedor_peso.log\")\n",
    "    \n",
    "# conseguir la columna con los contenedores\n",
    "file_container = np.empty(1250)\n",
    "for j in range(1250):\n",
    "    file_container[j] = file[j,2]\n",
    "    \n",
    "# Sacar las medias de ambos\n",
    "y_axis_container = np.empty(len(x_axis))\n",
    "\n",
    "for j in range(len(x_axis)):\n",
    "    y_axis_container[j] = np.mean(file_container[j*50:(j+1)*50])\n",
    "    \n",
    "print(y_axis_container)\n",
    "\n",
    "# Hacer la gráfica\n",
    "line = Line(\"Optimizar peso cargado: contenedores\")\n",
    "line.add(\"Contenedores\", x_axis, y_axis_container, mark_line=[\"average\"])\n",
    "\n",
    "line.render()"
   ]
  }
 ],
 "metadata": {
  "kernelspec": {
   "display_name": "Python 3",
   "language": "python",
   "name": "python3"
  },
  "language_info": {
   "codemirror_mode": {
    "name": "ipython",
    "version": 3
   },
   "file_extension": ".py",
   "mimetype": "text/x-python",
   "name": "python",
   "nbconvert_exporter": "python",
   "pygments_lexer": "ipython3",
   "version": "3.7.3"
  }
 },
 "nbformat": 4,
 "nbformat_minor": 2
}
