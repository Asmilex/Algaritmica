{
 "cells": [
  {
   "cell_type": "code",
   "execution_count": 2,
   "metadata": {},
   "outputs": [
    {
     "ename": "ModuleNotFoundError",
     "evalue": "No module named 'pyecharts'",
     "output_type": "error",
     "traceback": [
      "\u001b[0;31m---------------------------------------------------------------------------\u001b[0m",
      "\u001b[0;31mModuleNotFoundError\u001b[0m                       Traceback (most recent call last)",
      "\u001b[0;32m<ipython-input-2-7f19f2944880>\u001b[0m in \u001b[0;36m<module>\u001b[0;34m()\u001b[0m\n\u001b[0;32m----> 1\u001b[0;31m \u001b[0;32mfrom\u001b[0m \u001b[0mpyecharts\u001b[0m \u001b[0;32mimport\u001b[0m \u001b[0mLine\u001b[0m\u001b[0;34m,\u001b[0m \u001b[0menable_nteract\u001b[0m\u001b[0;34m\u001b[0m\u001b[0m\n\u001b[0m\u001b[1;32m      2\u001b[0m \u001b[0menable_nteract\u001b[0m\u001b[0;34m(\u001b[0m\u001b[0;34m)\u001b[0m\u001b[0;34m\u001b[0m\u001b[0m\n\u001b[1;32m      3\u001b[0m \u001b[0;34m\u001b[0m\u001b[0m\n\u001b[1;32m      4\u001b[0m \u001b[0;34m\u001b[0m\u001b[0m\n\u001b[1;32m      5\u001b[0m \u001b[0mattr\u001b[0m \u001b[0;34m=\u001b[0m \u001b[0;34m[\u001b[0m\u001b[0;34m\"1\"\u001b[0m\u001b[0;34m,\u001b[0m \u001b[0;34m\"2\"\u001b[0m\u001b[0;34m,\u001b[0m \u001b[0;34m\"3\"\u001b[0m\u001b[0;34m,\u001b[0m \u001b[0;34m\"4\"\u001b[0m\u001b[0;34m,\u001b[0m \u001b[0;34m\"5\"\u001b[0m\u001b[0;34m,\u001b[0m \u001b[0;34m\"6\"\u001b[0m\u001b[0;34m]\u001b[0m\u001b[0;34m\u001b[0m\u001b[0m\n",
      "\u001b[0;31mModuleNotFoundError\u001b[0m: No module named 'pyecharts'"
     ]
    }
   ],
   "source": [
    "from pyecharts import Line, enable_nteract\n",
    "enable_nteract()\n",
    "\n",
    "\n",
    "attr = [\"1\", \"2\", \"3\", \"4\", \"5\", \"6\"]\n",
    "v1 = [5, 20, 36, 10, 10, 100]\n",
    "v2 = [55, 60, 16, 20, 15, 80]\n",
    "line = Line(\"折线图-面积图示例\")\n",
    "line.add(\"商家A\", attr, v1, is_fill=True, line_opacity=0.2, area_opacity=0.4, symbol=None)\n",
    "line.add(\"商家B\", attr, v2, is_fill=True, area_color='#000', area_opacity=0.3, is_smooth=True)\n",
    "line.render()\n",
    "\n"
   ]
  },
  {
   "cell_type": "code",
   "execution_count": 4,
   "metadata": {
    "collapsed": true,
    "scrolled": true
   },
   "outputs": [],
   "source": [
    "from pyecharts import Bar\n",
    "\n",
    "bar = Bar(\"My first bar chart\", \"For our fashion shop client\")\n",
    "bar.add(\"Clothes\", [\"T-shirt\", \"Sweater\", \"Georgette\", \"Trousers\", \"High-heels\", \"Socks\"], [5, 20, 36, 10, 75, 90],\n",
    "        is_more_utils=True)\n",
    "bar.render()\n",
    "\n"
   ]
  },
  {
   "cell_type": "code",
   "execution_count": 6,
   "metadata": {
    "collapsed": true,
    "scrolled": false
   },
   "outputs": [],
   "source": [
    "from pyecharts import Graph\n",
    "\n",
    "nodes = [{\"name\": \"N1\", \"symbolSize\": 10}, {\"name\": \"N2\", \"symbolSize\": 20}, {\"name\": \"N3\", \"symbolSize\": 30}, {\"name\": \"N4\", \"symbolSize\": 40}, {\"name\": \"N5\", \"symbolSize\": 50}, {\"name\": \"N6\", \"symbolSize\": 40}, {\"name\": \"N7\", \"symbolSize\": 30}, {\"name\": \"N8\", \"symbolSize\": 20}] \n",
    "\n",
    "links = [] \n",
    "\n",
    "for i in nodes: \n",
    "    for j in nodes: \n",
    "        links.append({\"source\": i.get('name'), \"target\": j.get('name')}) \n",
    "\n",
    "graph = Graph(\"Grafo prueba\") \n",
    "graph.add(\"\", nodes, links, repulsion=40) \n",
    "\n",
    "graph.render()"
   ]
  },
  {
   "cell_type": "code",
   "execution_count": 1,
   "metadata": {},
   "outputs": [
    {
     "name": "stdout",
     "output_type": "stream",
     "text": [
      "Maximizar peso: peso (Contenedores_generados, peso_cargado, contenedores_cargados):\n",
      "\n",
      "[9991.04 9996.36 9997.8  9998.3  9998.8  9998.76 9999.22 9999.18 9999.4\n",
      " 9999.4  9999.7  9999.78 9999.58 9999.74 9999.68 9999.76 9999.82 9999.88\n",
      " 9999.82 9999.9  9999.86 9999.88 9999.94 9999.96 9999.92]\n"
     ]
    }
   ],
   "source": [
    "from pyecharts import Line\n",
    "import numpy as np\n",
    "\n",
    "print (\"Maximizar peso: peso (Contenedores_generados, peso_cargado, contenedores_cargados):\\n\")\n",
    "\n",
    "x_axis = np.arange(50, 1300, 50)\n",
    "\n",
    "file = np.loadtxt(\"./Data/Logs/contenedor_peso.log\")\n",
    "\n",
    "# conseguir la columna con el peso\n",
    "file_weight = np.empty(1250)\n",
    "for j in range(1250):\n",
    "    file_weight[j] = file[j,1]\n",
    "    \n",
    "# Sacar las medias \n",
    "y_axis_weight    = np.empty(len(x_axis))\n",
    "\n",
    "for j in range(len(x_axis)):\n",
    "    y_axis_weight[j] = np.mean(file_weight[j*50:(j+1)*50])\n",
    "\n",
    "# Hacer la gráfica\n",
    "line = Line(\"Optimizar peso cargado: peso\")\n",
    "line.add(\"Peso\", x_axis, y_axis_weight)\n",
    "#line.add(\"Contenedores\", x_axis, y_axis_container)\n",
    "\n",
    "print(y_axis_weight)\n",
    "\n",
    "line.render()"
   ]
  },
  {
   "cell_type": "code",
   "execution_count": 2,
   "metadata": {},
   "outputs": [
    {
     "name": "stdout",
     "output_type": "stream",
     "text": [
      "Maximizar peso: contenedores (Contenedores_generados, peso_cargado, contenedores_cargados):\n",
      "\n",
      "[12.7  11.5  11.64 11.72 11.62 11.68 11.5  11.6  11.4  11.54 11.48 11.46\n",
      " 11.48 11.56 11.46 11.54 11.48 11.42 11.36 11.28 11.22 11.32 11.34 11.3\n",
      " 11.24]\n"
     ]
    }
   ],
   "source": [
    "from pyecharts import Line\n",
    "import numpy as np\n",
    "\n",
    "print (\"Maximizar peso: contenedores (Contenedores_generados, peso_cargado, contenedores_cargados):\\n\")\n",
    "\n",
    "x_axis = np.arange(50, 1300, 50)\n",
    "\n",
    "file = np.loadtxt(\"./Data/Logs/contenedor_peso.log\")\n",
    "    \n",
    "# conseguir la columna con los contenedores\n",
    "file_container = np.empty(1250)\n",
    "for j in range(1250):\n",
    "    file_container[j] = file[j,2]\n",
    "    \n",
    "# Sacar las medias de ambos\n",
    "y_axis_container = np.empty(len(x_axis))\n",
    "\n",
    "for j in range(len(x_axis)):\n",
    "    y_axis_container[j] = np.mean(file_container[j*50:(j+1)*50])\n",
    "    \n",
    "print(y_axis_container)\n",
    "\n",
    "# Hacer la gráfica\n",
    "line = Line(\"Optimizar peso cargado: contenedores\")\n",
    "line.add(\"Contenedores\", x_axis, y_axis_container, mark_line=[\"average\"])\n",
    "\n",
    "line.render()"
   ]
  },
  {
   "cell_type": "code",
   "execution_count": 7,
   "metadata": {},
   "outputs": [
    {
     "name": "stdout",
     "output_type": "stream",
     "text": [
      "Maximizar contenedores: peso (Contenedores_generados, peso_cargado, contenedores_cargados):\n",
      "\n",
      "[9693.64 9802.04 9816.2  9830.24 9838.12 9871.32 9867.38 9876.08 9876.1\n",
      " 9878.48 9896.32 9903.06 9890.52 9897.04 9891.86 9902.78 9898.32 9915.76\n",
      " 9920.82 9915.84 9908.4  9919.36 9927.58 9916.94 9918.42]\n"
     ]
    }
   ],
   "source": [
    "from pyecharts import Line\n",
    "import numpy as np\n",
    "\n",
    "print (\"Maximizar contenedores: peso (Contenedores_generados, peso_cargado, contenedores_cargados):\\n\")\n",
    "\n",
    "x_axis = np.arange(50, 1300, 50)\n",
    "\n",
    "file = np.loadtxt(\"./Data/Logs/contenedor_contenedores.log\")\n",
    "\n",
    "# conseguir la columna con el peso\n",
    "file_weight = np.empty(1250)\n",
    "for j in range(1250):\n",
    "    file_weight[j] = file[j,1]\n",
    "    \n",
    "# Sacar las medias \n",
    "y_axis_weight    = np.empty(len(x_axis))\n",
    "\n",
    "for j in range(len(x_axis)):\n",
    "    y_axis_weight[j] = np.mean(file_weight[j*50:(j+1)*50])\n",
    "\n",
    "# Hacer la gráfica\n",
    "line = Line(\"Optimizar contenedores cargados: peso\")\n",
    "line.add(\"Peso\", x_axis, y_axis_weight, is_label_show=True)\n",
    "#line.add(\"Contenedores\", x_axis, y_axis_container)\n",
    "\n",
    "print(y_axis_weight)\n",
    "\n",
    "line.render()"
   ]
  },
  {
   "cell_type": "code",
   "execution_count": 12,
   "metadata": {},
   "outputs": [
    {
     "name": "stdout",
     "output_type": "stream",
     "text": [
      "Maximizar contenedores: contenedores (Contenedores_generados, peso_cargado, contenedores_cargados):\n",
      "\n",
      "[ 30.48  42.56  52.58  59.66  65.54  71.9   76.6   81.5   84.32  88.38\n",
      "  91.22  94.48  97.28 100.22 102.68 104.68 106.2  109.4  110.9  113.46\n",
      " 112.98 114.68 116.4  118.1  119.34]\n"
     ]
    }
   ],
   "source": [
    "from pyecharts import Line\n",
    "import numpy as np\n",
    "\n",
    "print (\"Maximizar contenedores: contenedores (Contenedores_generados, peso_cargado, contenedores_cargados):\\n\")\n",
    "\n",
    "x_axis = np.arange(50, 1300, 50)\n",
    "\n",
    "file = np.loadtxt(\"./Data/Logs/contenedor_contenedores.log\")\n",
    "    \n",
    "# conseguir la columna con los contenedores\n",
    "file_container = np.empty(1250)\n",
    "for j in range(1250):\n",
    "    file_container[j] = file[j,2]\n",
    "    \n",
    "# Sacar las medias de ambos\n",
    "y_axis_container = np.empty(len(x_axis))\n",
    "\n",
    "for j in range(len(x_axis)):\n",
    "    y_axis_container[j] = np.mean(file_container[j*50:(j+1)*50])\n",
    "    \n",
    "print(y_axis_container)\n",
    "\n",
    "# Hacer la gráfica\n",
    "line = Line(\"Optimizar contenedores: contenedores\")\n",
    "line.add(\"Contenedores\", x_axis, y_axis_container, is_smooth=True, is_label_show=True)\n",
    "\n",
    "line.render()"
   ]
  }
 ],
 "metadata": {
  "kernelspec": {
   "display_name": "Python 3",
   "language": "python",
   "name": "python3"
  },
  "language_info": {
   "codemirror_mode": {
    "name": "ipython",
    "version": 3
   },
   "file_extension": ".py",
   "mimetype": "text/x-python",
   "name": "python",
   "nbconvert_exporter": "python",
   "pygments_lexer": "ipython3",
   "version": "3.6.3"
  }
 },
 "nbformat": 4,
 "nbformat_minor": 2
}
