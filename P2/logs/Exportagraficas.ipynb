{
 "cells": [
  {
   "cell_type": "code",
   "execution_count": 24,
   "metadata": {},
   "outputs": [],
   "source": [
    "import numpy as np\n",
    "import matplotlib.pyplot as plt\n",
    "%matplotlib inline"
   ]
  },
  {
   "cell_type": "code",
   "execution_count": 18,
   "metadata": {},
   "outputs": [
    {
     "name": "stderr",
     "output_type": "stream",
     "text": [
      "ERROR:root:Internal Python error in the inspect module.\n",
      "Below is the traceback from this internal error.\n",
      "\n"
     ]
    },
    {
     "name": "stdout",
     "output_type": "stream",
     "text": [
      "Traceback (most recent call last):\n",
      "  File \"/home/ana/anaconda3/lib/python3.6/site-packages/IPython/core/interactiveshell.py\", line 2862, in run_code\n",
      "    exec(code_obj, self.user_global_ns, self.user_ns)\n",
      "  File \"<ipython-input-18-f9b397eb6f68>\", line 3, in <module>\n",
      "    data = np.loadtxt(\"cosas\")\n",
      "  File \"/home/ana/anaconda3/lib/python3.6/site-packages/numpy/lib/npyio.py\", line 898, in loadtxt\n",
      "    fh = iter(open(fname))\n",
      "FileNotFoundError: [Errno 2] No such file or directory: 'cosas'\n",
      "\n",
      "During handling of the above exception, another exception occurred:\n",
      "\n",
      "Traceback (most recent call last):\n",
      "  File \"/home/ana/anaconda3/lib/python3.6/site-packages/IPython/core/interactiveshell.py\", line 1806, in showtraceback\n",
      "    stb = value._render_traceback_()\n",
      "AttributeError: 'FileNotFoundError' object has no attribute '_render_traceback_'\n",
      "\n",
      "During handling of the above exception, another exception occurred:\n",
      "\n",
      "Traceback (most recent call last):\n",
      "  File \"/home/ana/anaconda3/lib/python3.6/site-packages/IPython/core/ultratb.py\", line 1090, in get_records\n",
      "    return _fixed_getinnerframes(etb, number_of_lines_of_context, tb_offset)\n",
      "  File \"/home/ana/anaconda3/lib/python3.6/site-packages/IPython/core/ultratb.py\", line 311, in wrapped\n",
      "    return f(*args, **kwargs)\n",
      "  File \"/home/ana/anaconda3/lib/python3.6/site-packages/IPython/core/ultratb.py\", line 345, in _fixed_getinnerframes\n",
      "    records = fix_frame_records_filenames(inspect.getinnerframes(etb, context))\n",
      "  File \"/home/ana/anaconda3/lib/python3.6/inspect.py\", line 1480, in getinnerframes\n",
      "    frameinfo = (tb.tb_frame,) + getframeinfo(tb, context)\n",
      "  File \"/home/ana/anaconda3/lib/python3.6/inspect.py\", line 1438, in getframeinfo\n",
      "    filename = getsourcefile(frame) or getfile(frame)\n",
      "  File \"/home/ana/anaconda3/lib/python3.6/inspect.py\", line 693, in getsourcefile\n",
      "    if getattr(getmodule(object, filename), '__loader__', None) is not None:\n",
      "  File \"/home/ana/anaconda3/lib/python3.6/inspect.py\", line 722, in getmodule\n",
      "    file = getabsfile(object, _filename)\n",
      "  File \"/home/ana/anaconda3/lib/python3.6/inspect.py\", line 706, in getabsfile\n",
      "    return os.path.normcase(os.path.abspath(_filename))\n",
      "  File \"/home/ana/anaconda3/lib/python3.6/posixpath.py\", line 374, in abspath\n",
      "    cwd = os.getcwd()\n",
      "FileNotFoundError: [Errno 2] No such file or directory\n"
     ]
    },
    {
     "ename": "FileNotFoundError",
     "evalue": "[Errno 2] No such file or directory: 'cosas'",
     "output_type": "error",
     "traceback": [
      "\u001b[0;31m---------------------------------------------------------------------------\u001b[0m"
     ]
    }
   ],
   "source": [
    "# este código es de ejemplo de como se hacen las cosas\n",
    "# Importar los datos, deben estar en dos columnas y sin texto\n",
    "data = np.loadtxt(\"cosas\")\n",
    "\n",
    "#Sacar los coeficientes de la regresión\n",
    "coefs = np.polyfit(data[:,0], data[:,1], 2)\n",
    "print(coefs)\n",
    "x = np.linspace(1.5, 10, 200)\n",
    "y = coefs[0]*x*x+coefs[1]*x+coefs[2]\n",
    "\n",
    "#Grafica\n",
    "plt.figure()\n",
    "plt.plot(data[:,0], data[:,1], color=\"red\", marker=\"o\", ls=\"none\")\n",
    "plt.plot(x,y)\n",
    "plt.xlabel(\"Datos\")\n",
    "plt.ylabel(r\"$f(\\alpha)$\", fontsize=12)\n",
    "#plt.savefig(\"grafica.pdf\")\n",
    "plt.show()\n"
   ]
  },
  {
   "cell_type": "code",
   "execution_count": 2,
   "metadata": {
    "scrolled": true
   },
   "outputs": [
    {
     "name": "stdout",
     "output_type": "stream",
     "text": [
      "[  2.70666667e+01   1.47263333e+03   4.88053333e+03   1.05637000e+04\n",
      "   1.85586667e+04   2.91519333e+04   4.11967000e+04   5.62576667e+04\n",
      "   7.33021000e+04   9.50215333e+04   1.19136867e+05   1.47100933e+05\n",
      "   1.77298100e+05   2.09590933e+05   2.47008500e+05   2.87000733e+05\n",
      "   3.29263700e+05   3.75447733e+05   4.08708167e+05   4.58505400e+05\n",
      "   5.05497567e+05   5.73210100e+05   6.36518333e+05   7.02742333e+05\n",
      "   7.67731233e+05   8.18123900e+05   8.96832300e+05   9.89946967e+05]\n",
      "[  100   800  1500  2200  2900  3600  4300  5000  5700  6400  7100  7800\n",
      "  8500  9200  9900 10600 11300 12000 12700 13400 14100 14800 15500 16200\n",
      " 16900 17600 18300 19000]\n"
     ]
    },
    {
     "data": {
      "image/png": "[encoded data removed]",
      "text/plain": [
       "<matplotlib.figure.Figure at 0x7fbc50f8e588>"
      ]
     },
     "metadata": {},
     "output_type": "display_data"
    }
   ],
   "source": [
    "datasinmedia = np.loadtxt(\"resultados_burbuja.dat\")\n",
    "medias = np.empty(28)\n",
    "for j in range(28):\n",
    "    medias[j]=np.mean(datasinmedia[j*30:(j+1)*30,1])\n",
    "print(medias)\n",
    "\n",
    "datos = np.arange(100,19700,700)\n",
    "print(datos)\n",
    "\n",
    "plt.figure()\n",
    "plt.plot(datos[:], medias[:], color=\"red\", marker=\"o\", ls=\"none\", label=\"Datos\")\n",
    "plt.legend(loc=\"best\")\n",
    "plt.xlabel(\"Tamaño\")\n",
    "plt.ylabel(\"Tiempo\")\n",
    "plt.tight_layout()\n",
    "plt.savefig(\"burbuja_experimental.pdf\")\n",
    "plt.show()"
   ]
  },
  {
   "cell_type": "code",
   "execution_count": 33,
   "metadata": {},
   "outputs": [
    {
     "name": "stdout",
     "output_type": "stream",
     "text": [
      "[  2.70666667e+01   1.47263333e+03   4.88053333e+03   1.05637000e+04\n",
      "   1.85586667e+04   2.91519333e+04   4.11967000e+04   5.62576667e+04\n",
      "   7.33021000e+04   9.50215333e+04   1.19136867e+05   1.47100933e+05\n",
      "   1.77298100e+05   2.09590933e+05   2.47008500e+05   2.87000733e+05\n",
      "   3.29263700e+05   3.75447733e+05   4.08708167e+05   4.58505400e+05\n",
      "   5.05497567e+05   5.73210100e+05   6.36518333e+05   7.02742333e+05\n",
      "   7.67731233e+05   8.18123900e+05   8.96832300e+05   9.89946967e+05]\n",
      "[  100   800  1500  2200  2900  3600  4300  5000  5700  6400  7100  7800\n",
      "  8500  9200  9900 10600 11300 12000 12700 13400 14100 14800 15500 16200\n",
      " 16900 17600 18300 19000]\n",
      "[  2.95261637e-03  -5.18146342e+00   6.51218003e+03]\n"
     ]
    },
    {
     "data": {
      "image/png": "[encoded data removed]",
      "text/plain": [
       "<matplotlib.figure.Figure at 0x7fcb98c7e3c8>"
      ]
     },
     "metadata": {},
     "output_type": "display_data"
    }
   ],
   "source": [
    "datasinmedia = np.loadtxt(\"resultados_burbuja.dat\")\n",
    "medias = np.empty(28)\n",
    "for j in range(28):\n",
    "    medias[j]=np.mean(datasinmedia[j*30:(j+1)*30,1])\n",
    "print(medias)\n",
    "\n",
    "datos = np.arange(100,19700,700)\n",
    "print(datos)\n",
    "\n",
    "coefs = np.polyfit(datos[:], medias[:], 2)\n",
    "print(coefs)\n",
    "\n",
    "y = coefs[0]*datos*datos+coefs[1]*datos+coefs[2]\n",
    "\n",
    "plt.figure()\n",
    "plt.plot(datos,y,label=\"Regresión\")\n",
    "plt.plot(datos[:], medias[:], color=\"red\", marker=\"o\", ls=\"none\", label=\"Datos\")\n",
    "plt.legend(loc=\"best\")\n",
    "plt.xlabel(\"Tamaño\")\n",
    "plt.ylabel(\"Tiempo\")\n",
    "plt.tight_layout()\n",
    "plt.savefig(\"burbuja_regresion.pdf\")\n",
    "plt.show()"
   ]
  },
  {
   "cell_type": "code",
   "execution_count": 3,
   "metadata": {},
   "outputs": [
    {
     "name": "stdout",
     "output_type": "stream",
     "text": [
      "[  0.00000000e+00   0.00000000e+00   0.00000000e+00   0.00000000e+00\n",
      "   9.33333333e-01   2.13333333e+00   2.13333333e+00   4.06666667e+00\n",
      "   7.93333333e+00   1.48000000e+01   3.06666667e+01   5.76666667e+01\n",
      "   1.15733333e+02   2.32600000e+02   4.69533333e+02   9.62400000e+02\n",
      "   1.84693333e+03   3.79646667e+03   7.54993333e+03   1.52642000e+04\n",
      "   3.01388667e+04   6.22802667e+04   1.27566600e+05   2.45389800e+05\n",
      "   4.77624533e+05   9.34805800e+05   1.86782533e+06   3.73074407e+06]\n",
      "[ 2  3  4  5  6  7  8  9 10 11 12 13 14 15 16 17 18 19 20 21 22 23 24 25 26\n",
      " 27 28 29]\n",
      "[   7316.16001361 -175518.25666358  753543.71555513]\n"
     ]
    },
    {
     "data": {
      "image/png": "[encoded data removed]",
      "text/plain": [
       "<matplotlib.figure.Figure at 0x7f79c0e85198>"
      ]
     },
     "metadata": {},
     "output_type": "display_data"
    }
   ],
   "source": [
    "datasinmedia = np.loadtxt(\"resultados_hanoi.dat\")\n",
    "medias = np.empty(28)\n",
    "for j in range(28):\n",
    "    medias[j]=np.mean(datasinmedia[j*15:(j+1)*15,1])\n",
    "print(medias)\n",
    "\n",
    "datos = np.arange(2,30,1)\n",
    "print(datos)\n",
    "\n",
    "coefs = np.polyfit(datos[:], medias[:], 2)\n",
    "print(coefs)\n",
    "\n",
    "plt.figure()\n",
    "plt.plot(datos[:], medias[:], color=\"red\", marker=\"o\", ls=\"none\", label=\"Datos\")\n",
    "plt.legend(loc=\"best\")\n",
    "plt.xlabel(\"Tamaño\")\n",
    "plt.ylabel(\"Tiempo\")\n",
    "plt.tight_layout()\n",
    "plt.savefig(\"hanoi_experimental.pdf\")\n",
    "plt.show()"
   ]
  },
  {
   "cell_type": "code",
   "execution_count": 7,
   "metadata": {},
   "outputs": [
    {
     "name": "stdout",
     "output_type": "stream",
     "text": [
      "[  2.70666667e+01   1.47263333e+03   4.88053333e+03   1.05637000e+04\n",
      "   1.85586667e+04   2.91519333e+04   4.11967000e+04   5.62576667e+04\n",
      "   7.33021000e+04   9.50215333e+04   1.19136867e+05   1.47100933e+05\n",
      "   1.77298100e+05   2.09590933e+05   2.47008500e+05   2.87000733e+05\n",
      "   3.29263700e+05   3.75447733e+05   4.08708167e+05   4.58505400e+05\n",
      "   5.05497567e+05   5.73210100e+05   6.36518333e+05   7.02742333e+05\n",
      "   7.67731233e+05   8.18123900e+05   8.96832300e+05   9.89946967e+05]\n",
      "[  5.32000000e+01   1.51786667e+03   4.99406667e+03   1.03274667e+04\n",
      "   1.76675333e+04   2.74916000e+04   3.99137333e+04   5.99021333e+04\n",
      "   7.56893333e+04   9.45947333e+04   1.21670400e+05   1.51131333e+05\n",
      "   1.83716933e+05   2.31991800e+05   2.45326067e+05   2.84325667e+05\n",
      "   3.40932733e+05   4.50786800e+05   4.54910133e+05   4.74386533e+05\n",
      "   5.11254867e+05   5.57153067e+05   6.15391067e+05   6.71678200e+05\n",
      "   7.44167000e+05   8.00209067e+05   8.72944067e+05   9.42452733e+05]\n",
      "[  2.72666667e+01   6.87400000e+02   1.44720000e+03   3.00400000e+03\n",
      "   4.95633333e+03   7.65160000e+03   1.06081333e+04   1.40465333e+04\n",
      "   1.85842667e+04   2.32738000e+04   2.96054667e+04   3.54629333e+04\n",
      "   4.07760000e+04   4.67833333e+04   5.58901333e+04   6.53757333e+04\n",
      "   7.26314000e+04   8.32909333e+04   9.55008000e+04   1.06072600e+05\n",
      "   1.21751333e+05   1.34160600e+05   1.46480533e+05   1.58008933e+05\n",
      "   1.79967200e+05   1.91822067e+05   2.08182533e+05   2.27712067e+05]\n",
      "[  2.74666667e+01   2.66666667e+01   1.40626667e+03   1.53900000e+03\n",
      "   4.83126667e+03   4.92980000e+03   1.07406000e+04   1.03868000e+04\n",
      "   1.83305333e+04   1.87868000e+04   2.93807333e+04   2.89231333e+04\n",
      "   4.18090667e+04   4.05843333e+04   5.49997333e+04   5.75156000e+04\n",
      "   7.27364000e+04   7.38678000e+04   9.45074000e+04   9.55356667e+04\n",
      "   1.20745333e+05   1.17528400e+05   1.53977200e+05   1.40224667e+05\n",
      "   1.77792200e+05   1.76804000e+05   2.07852800e+05   2.11329067e+05]\n",
      "[  100   800  1500  2200  2900  3600  4300  5000  5700  6400  7100  7800\n",
      "  8500  9200  9900 10600 11300 12000 12700 13400 14100 14800 15500 16200\n",
      " 16900 17600 18300 19000]\n",
      "[  2.95261637e-03  -5.18146342e+00   6.51218003e+03]\n",
      "[  2.51566142e-03   2.06196889e+00  -8.60910802e+03]\n",
      "[  6.90238201e-04  -1.37331468e+00   2.51510519e+03]\n",
      "[  6.70218095e-04  -1.50170021e+00   2.04136365e+03]\n"
     ]
    },
    {
     "data": {
      "image/png": "[encoded data removed]",
      "text/plain": [
       "<matplotlib.figure.Figure at 0x7f478c396d30>"
      ]
     },
     "metadata": {},
     "output_type": "display_data"
    }
   ],
   "source": [
    "datasinmediaAna = np.loadtxt(\"resultados_burbuja_Ana.dat\")\n",
    "mediasAna = np.empty(28)\n",
    "for j in range(28):\n",
    "    mediasAna[j]=np.mean(datasinmediaAna[j*30:(j+1)*30,1])\n",
    "print(mediasAna)\n",
    "\n",
    "datasinmediaAndres = np.loadtxt(\"resultados_burbuja_Andres.dat\")\n",
    "mediasAndres = np.empty(28)\n",
    "for j in range(28):\n",
    "    mediasAndres[j]=np.mean(datasinmediaAndres[j*15:(j+1)*15,1])\n",
    "print(mediasAndres)\n",
    "\n",
    "\n",
    "datasinmediaJA = np.loadtxt(\"resultados_burbuja_JA.dat\")\n",
    "mediasJA = np.empty(28)\n",
    "for j in range(28):\n",
    "    mediasJA[j]=np.mean(datasinmediaJA[j*15:(j+1)*15,1])\n",
    "print(mediasJA)\n",
    "\n",
    "datasinmediaPaula = np.loadtxt(\"resultados_burbuja_Paula.dat\")\n",
    "mediasPaula = np.empty(28)\n",
    "for j in range(28):\n",
    "    mediasPaula[j]=np.mean(datasinmediaPaula[j*15:(j+1)*15,1])\n",
    "print(mediasPaula)\n",
    "\n",
    "datos = np.arange(100,19700,700)\n",
    "print(datos)\n",
    "\n",
    "coefsAna = np.polyfit(datos[:], mediasAna[:], 2)\n",
    "print(coefsAna)\n",
    "\n",
    "coefsAndres = np.polyfit(datos[:], mediasAndres[:], 2)\n",
    "print(coefsAndres)\n",
    "\n",
    "coefsJA = np.polyfit(datos[:], mediasJA[:], 2)\n",
    "print(coefsJA)\n",
    "\n",
    "coefsPaula = np.polyfit(datos[:], mediasPaula[:], 2)\n",
    "print(coefsPaula)\n",
    "\n",
    "yAna = coefsAna[0]*datos*datos+coefsAna[1]*datos+coefsAna[2]\n",
    "yAndres = coefsAndres[0]*datos*datos+coefsAndres[1]*datos+coefsAndres[2]\n",
    "yJA = coefsJA[0]*datos*datos+coefsJA[1]*datos+coefsJA[2]\n",
    "yPaula = coefsPaula[0]*datos*datos+coefsPaula[1]*datos+coefsPaula[2]\n",
    "\n",
    "plt.figure()\n",
    "plt.plot(datos,yAna,label=\"Regresión de Ana\")\n",
    "plt.plot(datos,yAndres,label=\"Regresión de Andres\")\n",
    "plt.plot(datos,yJA,label=\"Regresión de Juan Antonio\")\n",
    "plt.plot(datos,yPaula,label=\"Regresión de Paula\")\n",
    "#plt.plot(datos[:], mediasAna[:], color=\"blue\", marker=\"x\", ls=\"none\", label=\"Datos\")\n",
    "#plt.plot(datos[:], mediasAndres[:], color=\"orange\", marker=\"x\", ls=\"none\", label=\"Datos\")\n",
    "#plt.plot(datos[:], mediasJA[:], color=\"green\", marker=\"x\", ls=\"none\", label=\"Datos\")\n",
    "#plt.plot(datos[:], mediasPaula[:], color=\"red\", marker=\"x\", ls=\"none\", label=\"Datos\")\n",
    "plt.legend(loc=\"best\")\n",
    "plt.xlabel(\"Tamaño\")\n",
    "plt.ylabel(\"Tiempo(ms)\")\n",
    "plt.tight_layout()\n",
    "plt.savefig(\"burbuja_grupo_regresion.png\", dpi=600)\n",
    "plt.show()"
   ]
  },
  {
   "cell_type": "code",
   "execution_count": 3,
   "metadata": {
    "scrolled": true
   },
   "outputs": [
    {
     "name": "stdout",
     "output_type": "stream",
     "text": [
      "[  0.00000000e+00   0.00000000e+00   0.00000000e+00   0.00000000e+00\n",
      "   9.33333333e-01   2.13333333e+00   2.13333333e+00   4.06666667e+00\n",
      "   7.93333333e+00   1.48000000e+01   3.06666667e+01   5.76666667e+01\n",
      "   1.15733333e+02   2.32600000e+02   4.69533333e+02   9.62400000e+02\n",
      "   1.84693333e+03   3.79646667e+03   7.54993333e+03   1.52642000e+04\n",
      "   3.01388667e+04   6.22802667e+04   1.27566600e+05   2.45389800e+05\n",
      "   4.77624533e+05   9.34805800e+05   1.86782533e+06   3.73074407e+06]\n",
      "[  0.00000000e+00   0.00000000e+00   0.00000000e+00   0.00000000e+00\n",
      "   1.00000000e+00   1.33333333e+00   2.53333333e+00   4.13333333e+00\n",
      "   8.86666667e+00   1.68666667e+01   3.42000000e+01   6.44000000e+01\n",
      "   1.31800000e+02   2.88933333e+02   5.20800000e+02   1.04753333e+03\n",
      "   2.01026667e+03   3.83493333e+03   6.96873333e+03   1.39997333e+04\n",
      "   2.84718000e+04   5.59046667e+04   1.03860067e+05   2.02194933e+05\n",
      "   3.89148000e+05   7.62952933e+05   1.58639613e+06   3.12725427e+06]\n",
      "[  0.00000000e+00   0.00000000e+00   0.00000000e+00   0.00000000e+00\n",
      "   6.00000000e-01   1.00000000e+00   2.06666667e+00   3.66666667e+00\n",
      "   7.26666667e+00   1.48000000e+01   3.26000000e+01   5.81333333e+01\n",
      "   1.16733333e+02   2.39866667e+02   4.54400000e+02   9.46200000e+02\n",
      "   1.84373333e+03   3.68026667e+03   7.17173333e+03   1.46001333e+04\n",
      "   2.88272000e+04   5.84875333e+04   1.14649867e+05   2.33829200e+05\n",
      "   4.61127200e+05   9.15086733e+05   1.82575567e+06   3.67899127e+06]\n",
      "[  0.00000000e+00   0.00000000e+00   0.00000000e+00   0.00000000e+00\n",
      "   0.00000000e+00   1.00000000e+00   2.04000000e+00   3.08000000e+00\n",
      "   6.36000000e+00   1.29600000e+01   2.69600000e+01   5.58800000e+01\n",
      "   1.02520000e+02   2.05600000e+02   5.02960000e+02   8.96200000e+02\n",
      "   1.68380000e+03   3.43068000e+03   7.03108000e+03   1.32846800e+04\n",
      "   2.65173200e+04   5.20926800e+04   1.02868920e+05   2.04968960e+05\n",
      "   4.12233360e+05   8.13599280e+05   1.62450624e+06   3.23804388e+06]\n",
      "[ 2  3  4  5  6  7  8  9 10 11 12 13 14 15 16 17 18 19 20 21 22 23 24 25 26\n",
      " 27 28 29]\n",
      "[   7316.16001361 -175518.25666358  753543.71555513]\n",
      "[   6128.63740123 -147051.94424024  631474.94059969]\n",
      "[   7187.59553843 -172565.54857339  741310.13256284]\n",
      "[   6350.58846491 -152417.61214391  654585.22791588]\n"
     ]
    },
    {
     "data": {
      "image/png": "[encoded data removed]",
      "text/plain": [
       "<matplotlib.figure.Figure at 0x7f4f7b0da390>"
      ]
     },
     "metadata": {},
     "output_type": "display_data"
    }
   ],
   "source": [
    "datasinmediaAna = np.loadtxt(\"resultados_hanoi_Ana.dat\")\n",
    "mediasAna = np.empty(28)\n",
    "for j in range(28):\n",
    "    mediasAna[j]=np.mean(datasinmediaAna[j*15:(j+1)*15,1])\n",
    "print(mediasAna)\n",
    "\n",
    "datasinmediaAndres = np.loadtxt(\"resultados_hanoi_Andres.dat\")\n",
    "mediasAndres = np.empty(28)\n",
    "for j in range(28):\n",
    "    mediasAndres[j]=np.mean(datasinmediaAndres[j*15:(j+1)*15,1])\n",
    "print(mediasAndres)\n",
    "\n",
    "\n",
    "datasinmediaJA = np.loadtxt(\"resultados_hanoi_JA.dat\")\n",
    "mediasJA = np.empty(28)\n",
    "for j in range(28):\n",
    "    mediasJA[j]=np.mean(datasinmediaJA[j*15:(j+1)*15,1])\n",
    "print(mediasJA)\n",
    "\n",
    "datasinmediaPaula = np.loadtxt(\"resultados_hanoi_Paula.dat\")\n",
    "mediasPaula = np.empty(28)\n",
    "for j in range(28):\n",
    "    mediasPaula[j]=np.mean(datasinmediaPaula[j*25:(j+1)*25,1])\n",
    "print(mediasPaula)\n",
    "\n",
    "datos = np.arange(2,30,1)\n",
    "print(datos)\n",
    "\n",
    "coefsAna = np.polyfit(datos[:], mediasAna[:], 2)\n",
    "print(coefsAna)\n",
    "\n",
    "coefsAndres = np.polyfit(datos[:], mediasAndres[:], 2)\n",
    "print(coefsAndres)\n",
    "\n",
    "coefsJA = np.polyfit(datos[:], mediasJA[:], 2)\n",
    "print(coefsJA)\n",
    "\n",
    "coefsPaula = np.polyfit(datos[:], mediasPaula[:], 2)\n",
    "print(coefsPaula)\n",
    "\n",
    "yAna = coefsAna[0]*datos*datos+coefsAna[1]*datos+coefsAna[2]\n",
    "yAndres = coefsAndres[0]*datos*datos+coefsAndres[1]*datos+coefsAndres[2]\n",
    "yJA = coefsJA[0]*datos*datos+coefsJA[1]*datos+coefsJA[2]\n",
    "yPaula = coefsPaula[0]*datos*datos+coefsPaula[1]*datos+coefsPaula[2]\n",
    "\n",
    "plt.figure()\n",
    "#plt.plot(datos,yAna,label=\"Regresión de Ana\", color=\"blue\")\n",
    "#plt.plot(datos,yAndres,label=\"Regresión de Andres\", color=\"green\")\n",
    "#plt.plot(datos,yJA,label=\"Regresión de Juan Antonio\", color=\"red\")\n",
    "#plt.plot(datos,yPaula,label=\"Regresión de Paula\",color=\"orange\")\n",
    "plt.plot(datos[:], mediasAna[:], color=\"blue\", marker=\"x\", ls=\"none\", label=\"Datos de Ana\")\n",
    "plt.plot(datos[:], mediasAndres[:], color=\"green\", marker=\"x\", ls=\"none\", label=\"Datos de Andrés\")\n",
    "plt.plot(datos[:], mediasJA[:], color=\"red\", marker=\"x\", ls=\"none\", label=\"Datos de Juan Antonio\")\n",
    "plt.plot(datos[:], mediasPaula[:], color=\"orange\", marker=\"x\", ls=\"none\", label=\"Datos de Paula\")\n",
    "plt.legend(loc=\"best\")\n",
    "plt.xlabel(\"Tamaño\")\n",
    "plt.ylabel(\"Tiempo(ms)\")\n",
    "plt.tight_layout()\n",
    "plt.savefig(\"hanoi_grupo_datos.png\", dpi=600)\n",
    "plt.show()"
   ]
  },
  {
   "cell_type": "code",
   "execution_count": 3,
   "metadata": {
    "scrolled": true
   },
   "outputs": [
    {
     "name": "stdout",
     "output_type": "stream",
     "text": [
      "[1.37266667e+03 1.98533333e+03 3.65933333e+03 9.16466667e+03\n",
      " 2.28833333e+04 6.92426667e+04 3.04148000e+05 1.01566100e+06\n",
      " 3.83900300e+06 1.40489790e+07]\n",
      "[4, 16, 64, 256, 1024, 4096, 16384, 65536, 262144, 1048576]\n"
     ]
    },
    {
     "data": {
      "image/png": "[encoded data removed]",
      "text/plain": [
       "<Figure size 432x288 with 1 Axes>"
      ]
     },
     "metadata": {
      "needs_background": "light"
     },
     "output_type": "display_data"
    }
   ],
   "source": [
    "datasinmediaAna = np.loadtxt(\"traspuesta_usual.log\")\n",
    "mediasAna = np.empty(10)\n",
    "for j in range(10):\n",
    "    mediasAna[j]=np.mean(datasinmediaAna[j*3:(j+1)*3,1])\n",
    "print(mediasAna)\n",
    "'''\n",
    "datasinmediaAndres = np.loadtxt(\"resultados_matriz_Andres.dat\")\n",
    "mediasAndres = np.empty(28)\n",
    "for j in range(28):\n",
    "    mediasAndres[j]=np.mean(datasinmediaAndres[j*15:(j+1)*15,1])\n",
    "print(mediasAndres)\n",
    "\n",
    "\n",
    "datasinmediaJA = np.loadtxt(\"resultados_matriz_JA.dat\")\n",
    "mediasJA = np.empty(28)\n",
    "for j in range(28):\n",
    "    mediasJA[j]=np.mean(datasinmediaJA[j*15:(j+1)*15,1])\n",
    "print(mediasJA)\n",
    "\n",
    "datasinmediaPaula = np.loadtxt(\"resultados_matriz_Paula.dat\")\n",
    "mediasPaula = np.empty(28)\n",
    "for j in range(28):\n",
    "    mediasPaula[j]=np.mean(datasinmediaPaula[j*15:(j+1)*15,1])\n",
    "print(mediasPaula)\n",
    "'''\n",
    "#datos = np.arange(100,19700,700)\n",
    "#datos = [2,4,8,16,32,64,128,256,512,1024]\n",
    "#datos = [4,8,16,32,64,128,256,512,1024,2048]\n",
    "datos = [4,16,64,256,1024,4096,16384,65536,262144,1048576]\n",
    "print(datos)\n",
    "\n",
    "#coefsAna = np.polyfit(datos[:], mediasAna[:], 2)\n",
    "#print(coefsAna)\n",
    "'''\n",
    "coefsAndres = np.polyfit(datos[:], mediasAndres[:], 2)\n",
    "print(coefsAndres)\n",
    "\n",
    "coefsJA = np.polyfit(datos[:], mediasJA[:], 2)\n",
    "print(coefsJA)\n",
    "\n",
    "coefsPaula = np.polyfit(datos[:], mediasPaula[:], 2)\n",
    "print(coefsPaula)\n",
    "'''\n",
    "#yAna = coefsAna[0]*datos*datos+coefsAna[1]*datos+coefsAna[2]\n",
    "'''\n",
    "yAndres = coefsAndres[0]*datos*datos+coefsAndres[1]*datos+coefsAndres[2]\n",
    "yJA = coefsJA[0]*datos*datos+coefsJA[1]*datos+coefsJA[2]\n",
    "yPaula = coefsPaula[0]*datos*datos+coefsPaula[1]*datos+coefsPaula[2]\n",
    "'''\n",
    "plt.figure()\n",
    "#plt.plot(datos,yAna,label=\"Regresión de Ana\")\n",
    "#plt.plot(datos,yAndres,label=\"Regresión de Andres\")\n",
    "#plt.plot(datos,yJA,label=\"Regresión de Juan Antonio\")\n",
    "#plt.plot(datos,yPaula,label=\"Regresión de Paula\")\n",
    "plt.plot(datos[:], mediasAna[:], color=\"blue\", marker=\"x\", ls=\"none\", label=\"Datos\")\n",
    "'''\n",
    "plt.plot(datos[:], mediasAndres[:], color=\"orange\", marker=\"x\", ls=\"none\", label=\"Datos\")\n",
    "plt.plot(datos[:], mediasJA[:], color=\"green\", marker=\"x\", ls=\"none\", label=\"Datos\")\n",
    "plt.plot(datos[:], mediasPaula[:], color=\"red\", marker=\"x\", ls=\"none\", label=\"Datos\")\n",
    "'''\n",
    "plt.legend(loc=\"best\")\n",
    "plt.xlabel(\"Tamaño\")\n",
    "plt.ylabel(\"Tiempo(ns)\")\n",
    "plt.tight_layout()\n",
    "plt.savefig(\"matriz_empirica.png\", dpi=600)\n",
    "plt.show()"
   ]
  },
  {
   "cell_type": "code",
   "execution_count": 30,
   "metadata": {},
   "outputs": [
    {
     "name": "stdout",
     "output_type": "stream",
     "text": [
      "[  2.01333333e+02   3.29333333e+02   8.08000000e+02   1.99500000e+03\n",
      "   5.87133333e+03   2.23060000e+04   8.43110000e+04   3.69342667e+05\n",
      "   1.50082867e+06   9.11339533e+06]\n",
      "[4, 16, 64, 256, 1024, 4096, 16384, 65536, 262144, 1048576]\n",
      "[  8.00000000e+00   6.40000000e+01   3.84000000e+02   2.04800000e+03\n",
      "   1.02400000e+04   4.91520000e+04   2.29376000e+05   1.04857600e+06\n",
      "   4.71859200e+06   2.09715200e+07]\n",
      "Ana: 3.14399111957\n"
     ]
    },
    {
     "data": {
      "image/png": "[encoded data removed]",
      "text/plain": [
       "<matplotlib.figure.Figure at 0x7f7a5ad35668>"
      ]
     },
     "metadata": {},
     "output_type": "display_data"
    }
   ],
   "source": [
    "datasinmediaAna = np.loadtxt(\"traspuesta.log\")\n",
    "mediasAna = np.empty(10)\n",
    "for j in range(10):\n",
    "    mediasAna[j]=np.mean(datasinmediaAna[j*3:(j+1)*3,1])\n",
    "print(mediasAna)\n",
    "'''\n",
    "datasinmediaAndres = np.loadtxt(\"resultados_matriz_Andres.dat\")\n",
    "mediasAndres = np.empty(28)\n",
    "for j in range(28):\n",
    "    mediasAndres[j]=np.mean(datasinmediaAndres[j*15:(j+1)*15,1])\n",
    "print(mediasAndres)\n",
    "\n",
    "\n",
    "datasinmediaJA = np.loadtxt(\"resultados_matriz_JA.dat\")\n",
    "mediasJA = np.empty(28)\n",
    "for j in range(28):\n",
    "    mediasJA[j]=np.mean(datasinmediaJA[j*15:(j+1)*15,1])\n",
    "print(mediasJA)\n",
    "\n",
    "datasinmediaPaula = np.loadtxt(\"resultados_matriz_Paula.dat\")\n",
    "mediasPaula = np.empty(28)\n",
    "for j in range(28):\n",
    "    mediasPaula[j]=np.mean(datasinmediaPaula[j*15:(j+1)*15,1])\n",
    "print(mediasPaula)\n",
    "'''\n",
    "#datos = np.arange(100,19700,700)\n",
    "#datos = [2,4,8,16,32,64,128,256,512,1024]\n",
    "datos = [4,16,64,256,1024,4096,16384,65536,262144,1048576]\n",
    "print(datos)\n",
    "\n",
    "#coefsAna = np.polyfit(datos[:], mediasAna[:], 2)\n",
    "#print(coefsAna)\n",
    "\n",
    "#yAna = coefsAna[0]*datos*datos+coefsAna[1]*datos+coefsAna[2]\n",
    "\n",
    "teorica = datos*np.log(datos)/np.log(2)\n",
    "print(teorica)\n",
    "\n",
    "\n",
    "\n",
    "\n",
    "#kAna=np.max(mediasAna/teorica)\n",
    "kAna=np.max(teorica/mediasAna)\n",
    "print(\"Ana:\", kAna)\n",
    "'''\n",
    "kAndres=np.max(teorica/mediasAndres)\n",
    "print(\"Andres:\", kAndres)\n",
    "\n",
    "kJA=np.max(teorica/mediasJA)\n",
    "print(\"JA:\", kJA)\n",
    "\n",
    "kPaula=np.max(teorica/mediasPaula)\n",
    "print(\"Paula:\", kPaula)\n",
    "''' \n",
    "cosoAna = kAna*teorica\n",
    "'''\n",
    "cosoAndres = kAndres*teorica\n",
    "cosoJA = kJA*teorica\n",
    "cosoPaula = kPaula*teorica\n",
    "'''\n",
    "plt.figure()\n",
    "plt.plot(datos[:], mediasAna[:], color=\"blue\", marker=\"x\", ls=\"none\", label=\"Datos de Ana\")\n",
    "'''\n",
    "plt.plot(datos[:], mediasAndres[:], color=\"orange\", marker=\"x\", ls=\"none\", label=\"Datos de Andrés\")\n",
    "plt.plot(datos[:], mediasJA[:], color=\"green\", marker=\"x\", ls=\"none\", label=\"Datos de Juan Antonio\")\n",
    "plt.plot(datos[:], mediasPaula[:], color=\"red\", marker=\"x\", ls=\"none\", label=\"Datos de Paula\")\n",
    "'''\n",
    "plt.plot(datos,cosoAna, color=\"blue\", ls=\"-\", label=\"Kf(n) Ana\")\n",
    "'''\n",
    "plt.plot(datos,cosoAndres, color=\"orange\", ls=\"--\", label=\"Kf(n) Andres\")\n",
    "plt.plot(datos,cosoJA, color=\"green\", ls=\"-\", label=\"Kf(n) JA\")\n",
    "plt.plot(datos,cosoPaula, color=\"red\", ls=\"--\", label=\"Kf(n) Paula\")\n",
    "'''\n",
    "plt.legend(loc=\"best\")\n",
    "plt.xlabel(\"Tamaño\")\n",
    "plt.ylabel(\"Tiempo(ms)\")\n",
    "plt.tight_layout()\n",
    "#plt.savefig(\"matriz_hibrida.png\", dpi=600)\n",
    "plt.show()"
   ]
  },
  {
   "cell_type": "code",
   "execution_count": 4,
   "metadata": {
    "scrolled": true
   },
   "outputs": [
    {
     "name": "stdout",
     "output_type": "stream",
     "text": [
      "[   6178.63   11259.72   16444.17   23862.82   21301.42   27074.24\n",
      "   33443.98   40430.7    42663.83   42572.22   44291.15   49010.27\n",
      "   58890.3    68170.4    70868.75   76246.65   85705.76   83459.74\n",
      "   83370.41   82502.36   85793.24   82960.14   82155.55   95291.31\n",
      "  105336.34  106703.37  128331.71  125267.75  131823.36  145769.13\n",
      "  140570.11  150690.84  161496.96  180631.92  165996.73  173888.15\n",
      "  164595.24  167922.29  168167.85  173736.98  167209.09  167525.43\n",
      "  164317.76  168468.39  166694.88  167259.89  178412.01  180110.87\n",
      "  193443.4   198785.91]\n",
      "[ 1000  1700  2400  3100  3800  4500  5200  5900  6600  7300  8000  8700\n",
      "  9400 10100 10800 11500 12200 12900 13600 14300 15000 15700 16400 17100\n",
      " 17800 18500 19200 19900 20600 21300 22000 22700 23400 24100 24800 25500\n",
      " 26200 26900 27600 28300 29000 29700 30400 31100 31800 32500 33200 33900\n",
      " 34600 35300]\n",
      "[  5.62758614e+00   7.00139393e+03]\n",
      "cosa multiplicando a x: 5.62758614166\n"
     ]
    },
    {
     "data": {
      "image/png": "[encoded data removed]",
      "text/plain": [
       "<matplotlib.figure.Figure at 0x7f7a62ef62e8>"
      ]
     },
     "metadata": {},
     "output_type": "display_data"
    }
   ],
   "source": [
    "datasinmediaAna = np.loadtxt(\"vector.log\")\n",
    "mediasAna = np.empty(50)\n",
    "for j in range(50):\n",
    "    mediasAna[j]=np.mean(datasinmediaAna[j*100:(j+1)*100,1])\n",
    "print(mediasAna)\n",
    "'''\n",
    "\n",
    "datasinmediaAndres = np.loadtxt(\"vector_Andres.log\")\n",
    "mediasAndres = np.empty(28)\n",
    "for j in range(28):\n",
    "    mediasAndres[j]=np.mean(datasinmediaAndres[j*3:(j+1)*3,1])\n",
    "print(mediasAndres)\n",
    "\n",
    "\n",
    "datasinmediaJA = np.loadtxt(\"vector_JA.log\")\n",
    "mediasJA = np.empty(28)\n",
    "for j in range(28):\n",
    "    mediasJA[j]=np.mean(datasinmediaJA[j*3:(j+1)*3,1])\n",
    "print(mediasJA)\n",
    "\n",
    "datasinmediaPaula = np.loadtxt(\"vector_Paula.log\")\n",
    "mediasPaula = np.empty(28)\n",
    "for j in range(28):\n",
    "    mediasPaula[j]=np.mean(datasinmediaPaula[j*4:(j+1)*4,1])\n",
    "print(mediasPaula)\n",
    "'''\n",
    "\n",
    "datos = np.arange(1000,36000,700)\n",
    "print(datos)\n",
    "\n",
    "coefsAna = np.polyfit(datos[:], mediasAna[:], 1)\n",
    "print(coefsAna)\n",
    "'''\n",
    "coefsAndres = np.polyfit(datos[:], mediasAndres[:], 1)\n",
    "print(coefsAndres)\n",
    "\n",
    "coefsJA = np.polyfit(datos[:], mediasJA[:], 1)\n",
    "print(coefsJA)\n",
    "\n",
    "coefsPaula = np.polyfit(datos[:], mediasPaula[:], 1)\n",
    "print(coefsPaula)\n",
    "'''\n",
    "yAna = coefsAna[0]*datos+coefsAna[1]\n",
    "print(\"cosa multiplicando a x:\",coefsAna[0])\n",
    "'''\n",
    "yAndres = coefsAndres[0]*datos+coefsAndres[1]\n",
    "yJA = coefsJA[0]*datos+coefsJA[1]\n",
    "yPaula = coefsPaula[0]*datos+coefsPaula[1]\n",
    "'''\n",
    "plt.figure()\n",
    "\n",
    "#plt.plot(datos,yAna,label=\"Regresión de Ana\")\n",
    "'''\n",
    "plt.plot(datos,yAndres,label=\"Regresión de Andres\")\n",
    "plt.plot(datos,yJA,label=\"Regresión de Juan Antonio\")\n",
    "plt.plot(datos,yPaula,label=\"Regresión de Paula\")\n",
    "'''\n",
    "plt.plot(datos[:], mediasAna[:], color=\"blue\", marker=\"x\", ls=\"none\", label=\"Datos\")\n",
    "'''\n",
    "plt.plot(datos[:], mediasAndres[:], color=\"orange\", marker=\"x\", ls=\"none\", label=\"Datos\")\n",
    "plt.plot(datos[:], mediasJA[:], color=\"green\", marker=\"x\", ls=\"none\", label=\"Datos\")\n",
    "plt.plot(datos[:], mediasPaula[:], color=\"red\", marker=\"x\", ls=\"none\", label=\"Datos\")\n",
    "'''\n",
    "plt.legend(loc=\"best\")\n",
    "plt.xlabel(\"Tamaño\")\n",
    "plt.ylabel(\"Tiempo(ns)\")\n",
    "plt.tight_layout()\n",
    "#plt.savefig(\"vector_empiricasinregr.png\", dpi=600)\n",
    "plt.show()"
   ]
  },
  {
   "cell_type": "markdown",
   "metadata": {},
   "source": [
    "datasinmediaAna = np.loadtxt(\"vector.log\")\n",
    "mediasAna = np.empty(50)\n",
    "for j in range(50):\n",
    "    mediasAna[j]=np.mean(datasinmediaAna[j*75:(j+1)*75,1])\n",
    "print(mediasAna)\n",
    "\n",
    "'''\n",
    "datasinmediaAndres = np.loadtxt(\"vector_Andres.log\")\n",
    "mediasAndres = np.empty(28)\n",
    "for j in range(28):\n",
    "    mediasAndres[j]=np.mean(datasinmediaAndres[j*3:(j+1)*3,1])\n",
    "print(mediasAndres)\n",
    "\n",
    "\n",
    "datasinmediaJA = np.loadtxt(\"vector_JA.log\")\n",
    "mediasJA = np.empty(28)\n",
    "for j in range(28):\n",
    "    mediasJA[j]=np.mean(datasinmediaJA[j*3:(j+1)*3,1])\n",
    "print(mediasJA)\n",
    "\n",
    "datasinmediaPaula = np.loadtxt(\"vector_Paula.log\")\n",
    "mediasPaula = np.empty(28)\n",
    "for j in range(28):\n",
    "    mediasPaula[j]=np.mean(datasinmediaPaula[j*4:(j+1)*4,1])\n",
    "print(mediasPaula)\n",
    "'''\n",
    "datos = np.arange(1000,36000,700)\n",
    "print(datos)\n",
    "\n",
    "coefsAna = np.polyfit(datos[:], mediasAna[:], 1)\n",
    "print(coefsAna)\n",
    "'''\n",
    "coefsAndres = np.polyfit(datos[:], mediasAndres[:], 1)\n",
    "print(coefsAndres)\n",
    "\n",
    "coefsJA = np.polyfit(datos[:], mediasJA[:], 1)\n",
    "print(coefsJA)\n",
    "\n",
    "coefsPaula = np.polyfit(datos[:], mediasPaula[:], 1)\n",
    "print(coefsPaula)\n",
    "'''\n",
    "yAna = coefsAna[0]*datos+coefsAna[1]\n",
    "'''\n",
    "yAndres = coefsAndres[0]*datos+coefsAndres[1]\n",
    "yJA = coefsJA[0]*datos+coefsJA[1]\n",
    "yPaula = coefsPaula[0]*datos+coefsPaula[1]\n",
    "'''\n",
    "\n",
    "teorica = datos\n",
    "print(teorica)\n",
    "\n",
    "kAna=np.max(mediasAna/teorica)\n",
    "print(\"Ana:\", kAna)\n",
    "'''\n",
    "kAndres=np.max(teorica/mediasAndres)\n",
    "print(\"Andres:\", kAndres)\n",
    "\n",
    "kJA=np.max(teorica/mediasJA)\n",
    "print(\"JA:\", kJA)\n",
    "\n",
    "kPaula=np.max(teorica/mediasPaula)\n",
    "print(\"Paula:\", kPaula)\n",
    " '''   \n",
    "cosoAna = kAna*teorica\n",
    "'''\n",
    "cosoAndres = kAndres*teorica\n",
    "cosoJA = kJA*teorica\n",
    "cosoPaula = kPaula*teorica\n",
    "'''\n",
    "plt.figure()\n",
    "'''\n",
    "plt.plot(datos,yAna,label=\"Regresión de Ana\")\n",
    "plt.plot(datos,yAndres,label=\"Regresión de Andres\")\n",
    "plt.plot(datos,yJA,label=\"Regresión de Juan Antonio\")\n",
    "plt.plot(datos,yPaula,label=\"Regresión de Paula\")\n",
    "'''\n",
    "plt.plot(datos[:], mediasAna[:], color=\"blue\", marker=\"x\", ls=\"none\", label=\"Datos\")\n",
    "'''\n",
    "plt.plot(datos[:], mediasAndres[:], color=\"orange\", marker=\"x\", ls=\"none\", label=\"Datos\")\n",
    "plt.plot(datos[:], mediasJA[:], color=\"green\", marker=\"x\", ls=\"none\", label=\"Datos\")\n",
    "plt.plot(datos[:], mediasPaula[:], color=\"red\", marker=\"x\", ls=\"none\", label=\"Datos\")\n",
    "'''\n",
    "plt.plot(datos,cosoAna, color=\"blue\", ls=\"-\", label=\"Kf(n) Ana\")\n",
    "'''\n",
    "plt.plot(datos,cosoAndres, color=\"orange\", ls=\"--\", label=\"Kf(n) Andres\")\n",
    "plt.plot(datos,cosoJA, color=\"green\", ls=\"-\", label=\"Kf(n) JA\")\n",
    "plt.plot(datos,cosoPaula, color=\"red\", ls=\"--\", label=\"Kf(n) Paula\")\n",
    "'''\n",
    "plt.legend(loc=\"best\")\n",
    "plt.xlabel(\"Tamaño\")\n",
    "plt.ylabel(\"Tiempo(ns)\")\n",
    "plt.tight_layout()\n",
    "#plt.savefig(\"vector_hibrida.png\", dpi=600)\n",
    "plt.show()"
   ]
  },
  {
   "cell_type": "code",
   "execution_count": 21,
   "metadata": {},
   "outputs": [
    {
     "name": "stdout",
     "output_type": "stream",
     "text": [
      "[   6178.63   11259.72   16444.17   23862.82   21301.42   27074.24\n",
      "   33443.98   40430.7    42663.83   42572.22   44291.15   49010.27\n",
      "   58890.3    68170.4    70868.75   76246.65   85705.76   83459.74\n",
      "   83370.41   82502.36   85793.24   82960.14   82155.55   95291.31\n",
      "  105336.34  106703.37  128331.71  125267.75  131823.36  145769.13\n",
      "  140570.11  150690.84  161496.96  180631.92  165996.73  173888.15\n",
      "  164595.24  167922.29  168167.85  173736.98  167209.09  167525.43\n",
      "  164317.76  168468.39  166694.88  167259.89  178412.01  180110.87\n",
      "  193443.4   198785.91]\n",
      "[ 1000  1700  2400  3100  3800  4500  5200  5900  6600  7300  8000  8700\n",
      "  9400 10100 10800 11500 12200 12900 13600 14300 15000 15700 16400 17100\n",
      " 17800 18500 19200 19900 20600 21300 22000 22700 23400 24100 24800 25500\n",
      " 26200 26900 27600 28300 29000 29700 30400 31100 31800 32500 33200 33900\n",
      " 34600 35300]\n",
      "[  5.62758614e+00   7.00139393e+03]\n",
      "[ 1000  1700  2400  3100  3800  4500  5200  5900  6600  7300  8000  8700\n",
      "  9400 10100 10800 11500 12200 12900 13600 14300 15000 15700 16400 17100\n",
      " 17800 18500 19200 19900 20600 21300 22000 22700 23400 24100 24800 25500\n",
      " 26200 26900 27600 28300 29000 29700 30400 31100 31800 32500 33200 33900\n",
      " 34600 35300]\n",
      "Ana: 7.69768387097\n"
     ]
    },
    {
     "data": {
      "image/png": "[encoded data removed]",
      "text/plain": [
       "<matplotlib.figure.Figure at 0x7f74315f5cf8>"
      ]
     },
     "metadata": {},
     "output_type": "display_data"
    }
   ],
   "source": [
    "datasinmediaAna = np.loadtxt(\"vector.log\")\n",
    "mediasAna = np.empty(50)\n",
    "for j in range(50):\n",
    "    mediasAna[j]=np.mean(datasinmediaAna[j*100:(j+1)*100,1]) \n",
    "print(mediasAna)\n",
    "\n",
    "''' \n",
    "datasinmediaAndres = np.loadtxt(\"vector_Andres.log\")\n",
    "mediasAndres = np.empty(28)\n",
    "for j in range(28): \n",
    "    mediasAndres[j]=np.mean(datasinmediaAndres[j3:(j+1)3,1])\n",
    "print(mediasAndres)\n",
    "\n",
    "datasinmediaJA = np.loadtxt(\"vector_JA.log\")\n",
    "mediasJA = np.empty(28) \n",
    "for j in range(28): \n",
    "    mediasJA[j]=np.mean(datasinmediaJA[j3:(j+1)3,1]) \n",
    "print(mediasJA)\n",
    "\n",
    "datasinmediaPaula = np.loadtxt(\"vector_Paula.log\")\n",
    "mediasPaula = np.empty(28) \n",
    "for j in range(28):\n",
    "    mediasPaula[j]=np.mean(datasinmediaPaula[j4:(j+1)4,1]) \n",
    "print(mediasPaula) \n",
    "''' \n",
    "datos = np.arange(1000,36000,700) \n",
    "print(datos)\n",
    "\n",
    "\n",
    "coefsAna = np.polyfit(datos[:], mediasAna[:], 1) \n",
    "print(coefsAna) \n",
    "''' \n",
    "coefsAndres = np.polyfit(datos[:], mediasAndres[:], 1) print(coefsAndres)\n",
    "\n",
    "coefsJA = np.polyfit(datos[:], mediasJA[:], 1) print(coefsJA)\n",
    "\n",
    "coefsPaula = np.polyfit(datos[:], mediasPaula[:], 1) print(coefsPaula) \n",
    "'''\n",
    "yAna = coefsAna[0]*datos+coefsAna[1]\n",
    "''' \n",
    "yAndres = coefsAndres[0]datos+coefsAndres[1]\n",
    "yJA = coefsJA[0]datos+coefsJA[1]\n",
    "yPaula = coefsPaula[0]datos+coefsPaula[1]\n",
    "'''\n",
    "\n",
    "teorica = datos \n",
    "print(teorica)\n",
    "\n",
    "kAna=np.max(mediasAna/teorica)\n",
    "print(\"Ana:\", kAna) \n",
    "''' kAndres=np.max(teorica/mediasAndres) \n",
    "print(\"Andres:\", kAndres)\n",
    "\n",
    "kJA=np.max(teorica/mediasJA)\n",
    "print(\"JA:\", kJA)\n",
    "\n",
    "kPaula=np.max(teorica/mediasPaula) \n",
    "print(\"Paula:\", kPaula)\n",
    "'''\n",
    "cosoAna = kAna*teorica\n",
    "''' \n",
    "cosoAndres = kAndresteorica \n",
    "cosoJA = kJAteorica\n",
    "cosoPaula = kPaulateorica \n",
    "''' \n",
    "plt.figure() \n",
    "''' \n",
    "plt.plot(datos,yAna,label=\"Regresión de Ana\") \n",
    "plt.plot(datos,yAndres,label=\"Regresión de Andres\") \n",
    "plt.plot(datos,yJA,label=\"Regresión de Juan Antonio\") \n",
    "plt.plot(datos,yPaula,label=\"Regresión de Paula\")\n",
    "''' \n",
    "plt.plot(datos[:], mediasAna[:], color=\"blue\", marker=\"x\", ls=\"none\", label=\"Datos\")\n",
    "'''\n",
    "plt.plot(datos[:], mediasAndres[:], color=\"orange\", marker=\"x\", ls=\"none\", label=\"Datos\") \n",
    "plt.plot(datos[:], mediasJA[:], color=\"green\", marker=\"x\", ls=\"none\", label=\"Datos\")\n",
    "plt.plot(datos[:], mediasPaula[:], color=\"red\", marker=\"x\", ls=\"none\", label=\"Datos\") \n",
    "'''\n",
    "plt.plot(datos,cosoAna, color=\"blue\", ls=\"-\", label=\"Kf(n) Ana\")\n",
    "'''\n",
    "plt.plot(datos,cosoAndres, color=\"orange\", ls=\"--\", label=\"Kf(n) Andres\") \n",
    "plt.plot(datos,cosoJA, color=\"green\", ls=\"-\", label=\"Kf(n) JA\")\n",
    "plt.plot(datos,cosoPaula, color=\"red\", ls=\"--\", label=\"Kf(n) Paula\")\n",
    "'''\n",
    "plt.legend(loc=\"best\") \n",
    "plt.xlabel(\"Tamaño\")\n",
    "plt.ylabel(\"Tiempo(ns)\") \n",
    "plt.tight_layout()\n",
    "\n",
    "plt.savefig(\"vector_hibrida.png\", dpi=600) \n",
    "plt.show()\n"
   ]
  },
  {
   "cell_type": "code",
   "execution_count": 25,
   "metadata": {
    "scrolled": false
   },
   "outputs": [
    {
     "name": "stdout",
     "output_type": "stream",
     "text": [
      "[  2.01333333e+02   3.29333333e+02   8.08000000e+02   1.99500000e+03\n",
      "   5.87133333e+03   2.23060000e+04   8.43110000e+04   3.69342667e+05\n",
      "   1.50082867e+06   9.11339533e+06]\n",
      "[  6.04333333e+02   7.02333333e+02   1.27533333e+03   1.54666667e+03\n",
      "   5.50233333e+03   1.20526667e+04   5.93530000e+04   2.16131333e+05\n",
      "   1.32873600e+06   4.02459267e+06]\n",
      "[4.0, 16.0, 64.0, 256.0, 1024.0, 4096.0, 16384.0, 65536.0, 262144.0, 1048576.0]\n",
      "[  8.61866395e+00  -9.50365406e+04]\n",
      "[  3.88154802e+00   2.23704386e+04]\n"
     ]
    },
    {
     "data": {
      "image/png": "[encoded data removed]",
      "text/plain": [
       "<matplotlib.figure.Figure at 0x7f7a5adc6860>"
      ]
     },
     "metadata": {},
     "output_type": "display_data"
    }
   ],
   "source": [
    "datasinmediaAna = np.loadtxt(\"traspuesta.log\")\n",
    "mediasAna = np.empty(10)\n",
    "for j in range(10):\n",
    "    mediasAna[j]=np.mean(datasinmediaAna[j*3:(j+1)*3,1])\n",
    "print(mediasAna)\n",
    "\n",
    "datasinmediaAndres = np.loadtxt(\"traspuestasindyv.log\")\n",
    "mediasAndres = np.empty(10)\n",
    "for j in range(10):\n",
    "    mediasAndres[j]=np.mean(datasinmediaAndres[j*3:(j+1)*3,1])\n",
    "print(mediasAndres)\n",
    "'''\n",
    "\n",
    "datasinmediaJA = np.loadtxt(\"resultados_matriz_JA.dat\")\n",
    "mediasJA = np.empty(28)\n",
    "for j in range(28):\n",
    "    mediasJA[j]=np.mean(datasinmediaJA[j*15:(j+1)*15,1])\n",
    "print(mediasJA)\n",
    "\n",
    "datasinmediaPaula = np.loadtxt(\"resultados_matriz_Paula.dat\")\n",
    "mediasPaula = np.empty(28)\n",
    "for j in range(28):\n",
    "    mediasPaula[j]=np.mean(datasinmediaPaula[j*15:(j+1)*15,1])\n",
    "print(mediasPaula)\n",
    "'''\n",
    "#datos = np.arange(100,19700,700)\n",
    "#datos = [2,4,8,16,32,64,128,256,512,1024]\n",
    "#datos = [4,8,16,32,64,128,256,512,1024,2048]\n",
    "datos = [4.0,16.0,64.0,256.0,1024.0,4096.0,16384.0,65536.0,262144.0,1048576.0]\n",
    "print(datos)\n",
    "\n",
    "coefsAna = np.polyfit(datos[:], mediasAna[:], 1)\n",
    "print(coefsAna)\n",
    "\n",
    "coefsAndres = np.polyfit(datos[:], mediasAndres[:], 1)\n",
    "print(coefsAndres)\n",
    "'''\n",
    "coefsJA = np.polyfit(datos[:], mediasJA[:], 2)\n",
    "print(coefsJA)\n",
    "\n",
    "coefsPaula = np.polyfit(datos[:], mediasPaula[:], 2)\n",
    "print(coefsPaula)\n",
    "'''\n",
    "#yAna = coefsAna[0]*datos+coefsAna[1]\n",
    "#yAndres = coefsAndres[0]*datos+coefsAndres[1]\n",
    "#print(yAna)\n",
    "#print(yAndres)\n",
    "'''\n",
    "yJA = coefsJA[0]*datos*datos+coefsJA[1]*datos+coefsJA[2]\n",
    "yPaula = coefsPaula[0]*datos*datos+coefsPaula[1]*datos+coefsPaula[2]\n",
    "'''\n",
    "plt.figure()\n",
    "#plt.plot(datos,yAna,label=\"Regresión de Ana\")\n",
    "#plt.plot(datos,yAndres,label=\"Regresión de Andres\")\n",
    "#plt.plot(datos,yJA,label=\"Regresión de Juan Antonio\")\n",
    "#plt.plot(datos,yPaula,label=\"Regresión de Paula\")\n",
    "plt.plot(datos[:], mediasAna[:], color=\"blue\", marker=\"x\", ls=\"none\", label=\"Datos DyV\")\n",
    "plt.plot(datos[:], mediasAndres[:], color=\"orange\", marker=\"x\", ls=\"none\", label=\"Datos sin DyV\")\n",
    "#plt.plot(datos[:], mediasJA[:], color=\"green\", marker=\"x\", ls=\"none\", label=\"Datos\")\n",
    "#plt.plot(datos[:], mediasPaula[:], color=\"red\", marker=\"x\", ls=\"none\", label=\"Datos\")\n",
    "\n",
    "plt.legend(loc=\"best\")\n",
    "plt.xlabel(\"Tamaño\")\n",
    "plt.ylabel(\"Tiempo(ns)\")\n",
    "plt.tight_layout()\n",
    "#plt.savefig(\"matriz_empirica_comparacion.png\", dpi=600)\n",
    "plt.show()"
   ]
  },
  {
   "cell_type": "code",
   "execution_count": null,
   "metadata": {},
   "outputs": [],
   "source": []
  },
  {
   "cell_type": "code",
   "execution_count": 27,
   "metadata": {},
   "outputs": [
    {
     "name": "stdout",
     "output_type": "stream",
     "text": [
      "[ 11076.9   17406.26  23426.59  31001.05  38677.94  45342.96  51058.87\n",
      "  59485.72  64576.2   70536.66  77474.99  83593.76  89221.96  95340.16\n",
      " 103956.4  107475.53 115099.34 121971.32 124138.54 134267.3  138060.31\n",
      " 146197.98 151597.84 152290.61 165665.5  164865.84 187533.82 181914.34\n",
      " 190996.07 189679.07 200292.65 200212.71 211529.02 212739.45 215036.65\n",
      " 217209.97 226801.95 233866.44 237713.11 242681.09 250556.97 257580.54\n",
      " 262190.64 267327.37 273388.29 280961.35 284962.92 292940.2  297618.28\n",
      " 300502.62]\n",
      "[ 17124.41  29248.43  41952.34  53449.67  58703.59  63887.05  78738.89\n",
      " 102182.14 108114.56 114577.42 124062.86 118395.54 130194.81 142474.06\n",
      " 151641.5  163974.56 176395.61 179478.75 182739.59 193834.29 195088.25\n",
      " 203249.08 211291.24 225605.21 239432.45 243737.73 262712.63 270800.09\n",
      " 276985.77 293789.68 302751.95 324750.38 332130.61 338556.47 339450.7\n",
      " 346985.78 351615.95 355759.7  363887.49 368805.91 377582.62 382984.75\n",
      " 390604.6  397581.34 406711.62 413452.25 427352.46 437596.57 449180.3\n",
      " 470034.78]\n",
      "[ 1000  1700  2400  3100  3800  4500  5200  5900  6600  7300  8000  8700\n",
      "  9400 10100 10800 11500 12200 12900 13600 14300 15000 15700 16400 17100\n",
      " 17800 18500 19200 19900 20600 21300 22000 22700 23400 24100 24800 25500\n",
      " 26200 26900 27600 28300 29000 29700 30400 31100 31800 32500 33200 33900\n",
      " 34600 35300]\n",
      "[8.37188423e+00 1.00511421e+04]\n",
      "[1.26470098e+01 1.50895402e+04]\n"
     ]
    },
    {
     "data": {
      "image/png": "[encoded data removed]",
      "text/plain": [
       "<Figure size 432x288 with 1 Axes>"
      ]
     },
     "metadata": {
      "needs_background": "light"
     },
     "output_type": "display_data"
    }
   ],
   "source": [
    "datasinmediaAna = np.loadtxt(\"vector_usual.log\")\n",
    "mediasAna = np.empty(50)\n",
    "for j in range(50):\n",
    "    mediasAna[j]=np.mean(datasinmediaAna[j*100:(j+1)*100,1])\n",
    "print(mediasAna)\n",
    "\n",
    "\n",
    "datasinmediaAndres = np.loadtxt(\"vector_DyV.log\")\n",
    "mediasAndres = np.empty(50)\n",
    "for j in range(50):\n",
    "    mediasAndres[j]=np.mean(datasinmediaAndres[j*100:(j+1)*100,1])\n",
    "print(mediasAndres)\n",
    "\n",
    "'''\n",
    "datasinmediaJA = np.loadtxt(\"vector_JA.log\")\n",
    "mediasJA = np.empty(28)\n",
    "for j in range(28):\n",
    "    mediasJA[j]=np.mean(datasinmediaJA[j*3:(j+1)*3,1])\n",
    "print(mediasJA)\n",
    "\n",
    "datasinmediaPaula = np.loadtxt(\"vector_Paula.log\")\n",
    "mediasPaula = np.empty(28)\n",
    "for j in range(28):\n",
    "    mediasPaula[j]=np.mean(datasinmediaPaula[j*4:(j+1)*4,1])\n",
    "print(mediasPaula)\n",
    "'''\n",
    "\n",
    "datos = np.arange(1000,36000,700)\n",
    "print(datos)\n",
    "\n",
    "coefsAna = np.polyfit(datos[:], mediasAna[:], 1)\n",
    "print(coefsAna)\n",
    "\n",
    "coefsAndres = np.polyfit(datos[:], mediasAndres[:], 1)\n",
    "print(coefsAndres)\n",
    "'''\n",
    "coefsJA = np.polyfit(datos[:], mediasJA[:], 1)\n",
    "print(coefsJA)\n",
    "\n",
    "coefsPaula = np.polyfit(datos[:], mediasPaula[:], 1)\n",
    "print(coefsPaula)\n",
    "'''\n",
    "yAna = coefsAna[0]*datos+coefsAna[1]\n",
    "\n",
    "yAndres = coefsAndres[0]*datos+coefsAndres[1]\n",
    "'''\n",
    "yJA = coefsJA[0]*datos+coefsJA[1]\n",
    "yPaula = coefsPaula[0]*datos+coefsPaula[1]\n",
    "'''\n",
    "plt.figure()\n",
    "\n",
    "#plt.plot(datos,yAna,label=\"Regresión de DyV\")\n",
    "#plt.plot(datos,yAndres,label=\"Regresión sin DyV\")\n",
    "#plt.plot(datos,yJA,label=\"Regresión de Juan Antonio\")\n",
    "#plt.plot(datos,yPaula,label=\"Regresión de Paula\")\n",
    "\n",
    "plt.plot(datos[:], mediasAna[:], color=\"blue\", marker=\"x\", ls=\"none\", label=\"Datos DyV\")\n",
    "\n",
    "plt.plot(datos[:], mediasAndres[:], color=\"orange\", marker=\"x\", ls=\"none\", label=\"Datos sin DyV\")\n",
    "#plt.plot(datos[:], mediasJA[:], color=\"green\", marker=\"x\", ls=\"none\", label=\"Datos\")\n",
    "#plt.plot(datos[:], mediasPaula[:], color=\"red\", marker=\"x\", ls=\"none\", label=\"Datos\")\n",
    "\n",
    "plt.legend(loc=\"best\")\n",
    "plt.xlabel(\"Tamaño\")\n",
    "plt.ylabel(\"Tiempo(ms)\")\n",
    "plt.tight_layout()\n",
    "#plt.savefig(\"vector_empiricacomparacionsinregr.png\", dpi=600)\n",
    "plt.show()"
   ]
  },
  {
   "cell_type": "code",
   "execution_count": 6,
   "metadata": {},
   "outputs": [
    {
     "name": "stdout",
     "output_type": "stream",
     "text": [
      "[1.37266667e+03 1.98533333e+03 3.65933333e+03 9.16466667e+03\n",
      " 2.28833333e+04 6.92426667e+04 3.04148000e+05 1.01566100e+06\n",
      " 3.83900300e+06 1.40489790e+07]\n",
      "[4, 16, 64, 256, 1024, 4096, 16384, 65536, 262144, 1048576]\n"
     ]
    },
    {
     "data": {
      "image/png": "[encoded data removed]",
      "text/plain": [
       "<Figure size 432x288 with 1 Axes>"
      ]
     },
     "metadata": {
      "needs_background": "light"
     },
     "output_type": "display_data"
    }
   ],
   "source": [
    "datos = np.loadtxt(\"traspuesta_usual.log\")\n",
    "medias = np.empty(10)\n",
    "\n",
    "for j in range(10):\n",
    "    medias[j]=np.mean(datos[j*3:(j+1)*3,1])\n",
    "print(medias)\n",
    "\n",
    "datos = [4,16,64,256,1024,4096,16384,65536,262144,1048576]\n",
    "print(datos)\n",
    "\n",
    "\n",
    "plt.figure()\n",
    "\n",
    "plt.plot(datos[:], medias[:], color=\"blue\", marker=\"x\", ls=\"none\", label=\"Datos\")\n",
    "\n",
    "plt.legend(loc=\"best\")\n",
    "plt.xlabel(\"Tamaño\")\n",
    "plt.ylabel(\"Tiempo (ns)\")\n",
    "plt.tight_layout()\n",
    "plt.savefig(\"matriz_empirica_usual.png\", dpi=600)\n",
    "plt.show()"
   ]
  },
  {
   "cell_type": "code",
   "execution_count": 7,
   "metadata": {},
   "outputs": [
    {
     "name": "stdout",
     "output_type": "stream",
     "text": [
      "[4.90000000e+02 7.92000000e+02 2.62266667e+03 1.13843333e+04\n",
      " 3.77620000e+04 1.77945000e+05 8.21086333e+05 3.36851900e+06\n",
      " 1.37909103e+07 5.88776273e+07]\n",
      "[4, 16, 64, 256, 1024, 4096, 16384, 65536, 262144, 1048576]\n"
     ]
    },
    {
     "data": {
      "image/png": "[encoded data removed]",
      "text/plain": [
       "<Figure size 432x288 with 1 Axes>"
      ]
     },
     "metadata": {
      "needs_background": "light"
     },
     "output_type": "display_data"
    }
   ],
   "source": [
    "datos = np.loadtxt(\"traspuesta_DyV.log\")\n",
    "medias = np.empty(10)\n",
    "\n",
    "for j in range(10):\n",
    "    medias[j]=np.mean(datos[j*3:(j+1)*3,1])\n",
    "print(medias)\n",
    "\n",
    "datos = [4,16,64,256,1024,4096,16384,65536,262144,1048576]\n",
    "print(datos)\n",
    "\n",
    "\n",
    "plt.figure()\n",
    "\n",
    "plt.plot(datos[:], medias[:], color=\"blue\", marker=\"x\", ls=\"none\", label=\"Datos\")\n",
    "\n",
    "plt.legend(loc=\"best\")\n",
    "plt.xlabel(\"Tamaño\")\n",
    "plt.ylabel(\"Tiempo (ns)\")\n",
    "plt.tight_layout()\n",
    "plt.savefig(\"matriz_empirica_DyV.png\", dpi=600)\n",
    "plt.show()"
   ]
  },
  {
   "cell_type": "code",
   "execution_count": 66,
   "metadata": {},
   "outputs": [
    {
     "name": "stdout",
     "output_type": "stream",
     "text": [
      "[1.37266667e+03 1.98533333e+03 3.65933333e+03 9.16466667e+03\n",
      " 2.28833333e+04 6.92426667e+04 3.04148000e+05 1.01566100e+06\n",
      " 3.83900300e+06 1.40489790e+07]\n",
      "[4, 16, 64, 256, 1024, 4096, 16384, 65536, 262144, 1048576]\n",
      "[8.000000e+00 6.400000e+01 3.840000e+02 2.048000e+03 1.024000e+04\n",
      " 4.915200e+04 2.293760e+05 1.048576e+06 4.718592e+06 2.097152e+07]\n",
      "Ana: 1.4927433516698971\n"
     ]
    },
    {
     "data": {
      "image/png": "[encoded data removed]",
      "text/plain": [
       "<Figure size 432x288 with 1 Axes>"
      ]
     },
     "metadata": {
      "needs_background": "light"
     },
     "output_type": "display_data"
    }
   ],
   "source": [
    "datasinmediaAna = np.loadtxt(\"traspuesta_usual.log\")\n",
    "mediasAna = np.empty(10)\n",
    "\n",
    "for j in range(10):\n",
    "    mediasAna[j]=np.mean(datasinmediaAna[j*3:(j+1)*3,1])\n",
    "\n",
    "print(mediasAna)\n",
    "\n",
    "datos = [4,16,64,256,1024,4096,16384,65536,262144,1048576]\n",
    "print(datos)\n",
    "\n",
    "teorica = datos*np.log(datos)/np.log(2)\n",
    "print(teorica)\n",
    "\n",
    "kAna=np.max(teorica/mediasAna)\n",
    "print(\"Ana:\", kAna)\n",
    "\n",
    "cosoAna = kAna*teorica\n",
    "\n",
    "plt.figure()\n",
    "plt.plot(datos[:], mediasAna[:], color=\"blue\", marker=\"x\", ls=\"none\", label=\"Datos de Ana\")\n",
    "\n",
    "plt.plot(datos,cosoAna, color=\"blue\", ls=\"-\", label=\"Kf(n) Ana\")\n",
    "\n",
    "plt.legend(loc=\"best\")\n",
    "plt.xlabel(\"Tamaño\")\n",
    "plt.ylabel(\"Tiempo (ns)\")\n",
    "plt.tight_layout()\n",
    "#plt.savefig(\"matriz_hibrida_usual.png\", dpi=600)\n",
    "plt.show()"
   ]
  },
  {
   "cell_type": "code",
   "execution_count": 78,
   "metadata": {},
   "outputs": [
    {
     "name": "stdout",
     "output_type": "stream",
     "text": [
      "[4.90000000e+02 7.92000000e+02 2.62266667e+03 1.13843333e+04\n",
      " 3.77620000e+04 1.77945000e+05 8.21086333e+05 3.36851900e+06\n",
      " 1.37909103e+07 5.88776273e+07]\n",
      "[4, 16, 64, 256, 1024, 4096, 16384, 65536, 262144, 1048576]\n",
      "[8.000000e+00 6.400000e+01 3.840000e+02 2.048000e+03 1.024000e+04\n",
      " 4.915200e+04 2.293760e+05 1.048576e+06 4.718592e+06 2.097152e+07]\n",
      "Ana: 3.205694396131746\n"
     ]
    },
    {
     "data": {
      "image/png": "[encoded data removed]",
      "text/plain": [
       "<Figure size 432x288 with 1 Axes>"
      ]
     },
     "metadata": {
      "needs_background": "light"
     },
     "output_type": "display_data"
    }
   ],
   "source": [
    "datasinmediaAna = np.loadtxt(\"traspuesta_DyV.log\")\n",
    "mediasAna = np.empty(10)\n",
    "\n",
    "for j in range(10):\n",
    "    mediasAna[j]=np.mean(datasinmediaAna[j*3:(j+1)*3,1])\n",
    "\n",
    "print(mediasAna)\n",
    "\n",
    "datos = [4,16,64,256,1024,4096,16384,65536,262144,1048576]\n",
    "print(datos)\n",
    "\n",
    "teorica = datos*np.log(datos)/np.log(2)\n",
    "print(teorica)\n",
    "\n",
    "kAna=np.max(teorica/mediasAna)*9\n",
    "print(\"Ana:\", kAna)\n",
    "\n",
    "cosoAna = kAna*teorica\n",
    "\n",
    "plt.figure()\n",
    "plt.plot(datos[:], mediasAna[:], color=\"blue\", marker=\"x\", ls=\"none\", label=\"Datos de Ana\")\n",
    "\n",
    "plt.plot(datos,cosoAna, color=\"blue\", ls=\"-\", label=\"Kf(n) Ana\")\n",
    "\n",
    "plt.legend(loc=\"best\")\n",
    "plt.xlabel(\"Tamaño\")\n",
    "plt.ylabel(\"Tiempo (ns)\")\n",
    "plt.tight_layout()\n",
    "plt.savefig(\"matriz_hibrida_DyV.png\", dpi=600)\n",
    "plt.show()"
   ]
  },
  {
   "cell_type": "code",
   "execution_count": 17,
   "metadata": {},
   "outputs": [
    {
     "name": "stdout",
     "output_type": "stream",
     "text": [
      "[ 11076.9   17406.26  23426.59  31001.05  38677.94  45342.96  51058.87\n",
      "  59485.72  64576.2   70536.66  77474.99  83593.76  89221.96  95340.16\n",
      " 103956.4  107475.53 115099.34 121971.32 124138.54 134267.3  138060.31\n",
      " 146197.98 151597.84 152290.61 165665.5  164865.84 187533.82 181914.34\n",
      " 190996.07 189679.07 200292.65 200212.71 211529.02 212739.45 215036.65\n",
      " 217209.97 226801.95 233866.44 237713.11 242681.09 250556.97 257580.54\n",
      " 262190.64 267327.37 273388.29 280961.35 284962.92 292940.2  297618.28\n",
      " 300502.62]\n",
      "[ 1000  1700  2400  3100  3800  4500  5200  5900  6600  7300  8000  8700\n",
      "  9400 10100 10800 11500 12200 12900 13600 14300 15000 15700 16400 17100\n",
      " 17800 18500 19200 19900 20600 21300 22000 22700 23400 24100 24800 25500\n",
      " 26200 26900 27600 28300 29000 29700 30400 31100 31800 32500 33200 33900\n",
      " 34600 35300]\n",
      "[8.37188423e+00 1.00511421e+04]\n",
      "[ 1000  1700  2400  3100  3800  4500  5200  5900  6600  7300  8000  8700\n",
      "  9400 10100 10800 11500 12200 12900 13600 14300 15000 15700 16400 17100\n",
      " 17800 18500 19200 19900 20600 21300 22000 22700 23400 24100 24800 25500\n",
      " 26200 26900 27600 28300 29000 29700 30400 31100 31800 32500 33200 33900\n",
      " 34600 35300]\n",
      "Ana: 11.0769\n"
     ]
    },
    {
     "data": {
      "image/png": "[encoded data removed]",
      "text/plain": [
       "<Figure size 432x288 with 1 Axes>"
      ]
     },
     "metadata": {
      "needs_background": "light"
     },
     "output_type": "display_data"
    }
   ],
   "source": [
    "datasinmediaAna = np.loadtxt(\"vector_usual.log\")\n",
    "mediasAna = np.empty(50)\n",
    "\n",
    "for j in range(50):\n",
    "    mediasAna[j]=np.mean(datasinmediaAna[j*100:(j+1)*100,1])\n",
    "print(mediasAna)\n",
    "\n",
    "datos = np.arange(1000,36000,700)\n",
    "print(datos)\n",
    "\n",
    "\n",
    "coefsAna = np.polyfit(datos[:], mediasAna[:], 1)\n",
    "print(coefsAna)\n",
    "\n",
    "yAna = coefsAna[0]*datos+coefsAna[1]\n",
    "\n",
    "teorica = datos\n",
    "print(teorica)\n",
    "\n",
    "kAna=np.max(mediasAna/teorica)\n",
    "print(\"Ana:\", kAna)\n",
    "\n",
    "cosoAna = kAna*teorica\n",
    "\n",
    "plt.figure()\n",
    "\n",
    "plt.plot(datos[:], mediasAna[:], color=\"blue\", marker=\"x\", ls=\"none\", label=\"Datos\")\n",
    "\n",
    "plt.plot(datos,cosoAna, color=\"blue\", ls=\"-\", label=\"Kf(n) Ana\")\n",
    "\n",
    "plt.legend(loc=\"best\")\n",
    "plt.xlabel(\"Tamaño\")\n",
    "plt.ylabel(\"Tiempo (ns)\")\n",
    "plt.tight_layout()\n",
    "\n",
    "plt.savefig(\"vector_hibrida_usual.png\", dpi=600)\n",
    "plt.show()"
   ]
  },
  {
   "cell_type": "code",
   "execution_count": 19,
   "metadata": {},
   "outputs": [
    {
     "name": "stdout",
     "output_type": "stream",
     "text": [
      "[ 17124.41  29248.43  41952.34  53449.67  58703.59  63887.05  78738.89\n",
      " 102182.14 108114.56 114577.42 124062.86 118395.54 130194.81 142474.06\n",
      " 151641.5  163974.56 176395.61 179478.75 182739.59 193834.29 195088.25\n",
      " 203249.08 211291.24 225605.21 239432.45 243737.73 262712.63 270800.09\n",
      " 276985.77 293789.68 302751.95 324750.38 332130.61 338556.47 339450.7\n",
      " 346985.78 351615.95 355759.7  363887.49 368805.91 377582.62 382984.75\n",
      " 390604.6  397581.34 406711.62 413452.25 427352.46 437596.57 449180.3\n",
      " 470034.78]\n",
      "[ 1000  1700  2400  3100  3800  4500  5200  5900  6600  7300  8000  8700\n",
      "  9400 10100 10800 11500 12200 12900 13600 14300 15000 15700 16400 17100\n",
      " 17800 18500 19200 19900 20600 21300 22000 22700 23400 24100 24800 25500\n",
      " 26200 26900 27600 28300 29000 29700 30400 31100 31800 32500 33200 33900\n",
      " 34600 35300]\n",
      "[1.26470098e+01 1.50895402e+04]\n",
      "[ 1000  1700  2400  3100  3800  4500  5200  5900  6600  7300  8000  8700\n",
      "  9400 10100 10800 11500 12200 12900 13600 14300 15000 15700 16400 17100\n",
      " 17800 18500 19200 19900 20600 21300 22000 22700 23400 24100 24800 25500\n",
      " 26200 26900 27600 28300 29000 29700 30400 31100 31800 32500 33200 33900\n",
      " 34600 35300]\n",
      "Ana: 17.480141666666665\n"
     ]
    },
    {
     "data": {
      "image/png": "[encoded data removed]",
      "text/plain": [
       "<Figure size 432x288 with 1 Axes>"
      ]
     },
     "metadata": {
      "needs_background": "light"
     },
     "output_type": "display_data"
    }
   ],
   "source": [
    "datasinmediaAna = np.loadtxt(\"vector_DyV.log\")\n",
    "mediasAna = np.empty(50)\n",
    "\n",
    "for j in range(50):\n",
    "    mediasAna[j]=np.mean(datasinmediaAna[j*100:(j+1)*100,1])\n",
    "print(mediasAna)\n",
    "\n",
    "datos = np.arange(1000,36000,700)\n",
    "print(datos)\n",
    "\n",
    "\n",
    "coefsAna = np.polyfit(datos[:], mediasAna[:], 1)\n",
    "print(coefsAna)\n",
    "\n",
    "yAna = coefsAna[0]*datos+coefsAna[1]\n",
    "\n",
    "teorica = datos\n",
    "print(teorica)\n",
    "\n",
    "kAna=np.max(mediasAna/teorica)\n",
    "print(\"Ana:\", kAna)\n",
    "\n",
    "cosoAna = kAna*teorica\n",
    "\n",
    "plt.figure()\n",
    "\n",
    "plt.plot(datos[:], mediasAna[:], color=\"blue\", marker=\"x\", ls=\"none\", label=\"Datos\")\n",
    "\n",
    "plt.plot(datos,cosoAna, color=\"blue\", ls=\"-\", label=\"Kf(n) Ana\")\n",
    "\n",
    "plt.legend(loc=\"best\")\n",
    "plt.xlabel(\"Tamaño\")\n",
    "plt.ylabel(\"Tiempo (ns)\")\n",
    "plt.tight_layout()\n",
    "\n",
    "plt.savefig(\"vector_hibrida_DyV.png\", dpi=600)\n",
    "plt.show()"
   ]
  },
  {
   "cell_type": "code",
   "execution_count": 21,
   "metadata": {},
   "outputs": [
    {
     "name": "stdout",
     "output_type": "stream",
     "text": [
      "[ 11076.9   17406.26  23426.59  31001.05  38677.94  45342.96  51058.87\n",
      "  59485.72  64576.2   70536.66  77474.99  83593.76  89221.96  95340.16\n",
      " 103956.4  107475.53 115099.34 121971.32 124138.54 134267.3  138060.31\n",
      " 146197.98 151597.84 152290.61 165665.5  164865.84 187533.82 181914.34\n",
      " 190996.07 189679.07 200292.65 200212.71 211529.02 212739.45 215036.65\n",
      " 217209.97 226801.95 233866.44 237713.11 242681.09 250556.97 257580.54\n",
      " 262190.64 267327.37 273388.29 280961.35 284962.92 292940.2  297618.28\n",
      " 300502.62]\n",
      "[ 1000  1700  2400  3100  3800  4500  5200  5900  6600  7300  8000  8700\n",
      "  9400 10100 10800 11500 12200 12900 13600 14300 15000 15700 16400 17100\n",
      " 17800 18500 19200 19900 20600 21300 22000 22700 23400 24100 24800 25500\n",
      " 26200 26900 27600 28300 29000 29700 30400 31100 31800 32500 33200 33900\n",
      " 34600 35300]\n",
      "[8.37188423e+00 1.00511421e+04]\n",
      "cosa multiplicando a x: 8.371884234608126\n"
     ]
    },
    {
     "data": {
      "image/png": "[encoded data removed]",
      "text/plain": [
       "<Figure size 432x288 with 1 Axes>"
      ]
     },
     "metadata": {
      "needs_background": "light"
     },
     "output_type": "display_data"
    }
   ],
   "source": [
    "datasinmediaAna = np.loadtxt(\"vector_usual.log\")\n",
    "\n",
    "mediasAna = np.empty(50)\n",
    "for j in range(50):\n",
    "    mediasAna[j]=np.mean(datasinmediaAna[j*100:(j+1)*100,1])\n",
    "print(mediasAna)\n",
    "\n",
    "datos = np.arange(1000,36000,700)\n",
    "print(datos)\n",
    "\n",
    "coefsAna = np.polyfit(datos[:], mediasAna[:], 1)\n",
    "print(coefsAna)\n",
    "\n",
    "yAna = coefsAna[0]*datos+coefsAna[1]\n",
    "print(\"cosa multiplicando a x:\",coefsAna[0])\n",
    "\n",
    "plt.figure()\n",
    "\n",
    "plt.plot(datos[:], mediasAna[:], color=\"blue\", marker=\"x\", ls=\"none\", label=\"Datos\")\n",
    "\n",
    "plt.legend(loc=\"best\")\n",
    "plt.xlabel(\"Tamaño\")\n",
    "plt.ylabel(\"Tiempo(ns)\")\n",
    "plt.tight_layout()\n",
    "#plt.savefig(\"vector_empirica_usual.png\", dpi=600)\n",
    "plt.show()"
   ]
  },
  {
   "cell_type": "code",
   "execution_count": 23,
   "metadata": {},
   "outputs": [
    {
     "name": "stdout",
     "output_type": "stream",
     "text": [
      "[ 17124.41  29248.43  41952.34  53449.67  58703.59  63887.05  78738.89\n",
      " 102182.14 108114.56 114577.42 124062.86 118395.54 130194.81 142474.06\n",
      " 151641.5  163974.56 176395.61 179478.75 182739.59 193834.29 195088.25\n",
      " 203249.08 211291.24 225605.21 239432.45 243737.73 262712.63 270800.09\n",
      " 276985.77 293789.68 302751.95 324750.38 332130.61 338556.47 339450.7\n",
      " 346985.78 351615.95 355759.7  363887.49 368805.91 377582.62 382984.75\n",
      " 390604.6  397581.34 406711.62 413452.25 427352.46 437596.57 449180.3\n",
      " 470034.78]\n",
      "[ 1000  1700  2400  3100  3800  4500  5200  5900  6600  7300  8000  8700\n",
      "  9400 10100 10800 11500 12200 12900 13600 14300 15000 15700 16400 17100\n",
      " 17800 18500 19200 19900 20600 21300 22000 22700 23400 24100 24800 25500\n",
      " 26200 26900 27600 28300 29000 29700 30400 31100 31800 32500 33200 33900\n",
      " 34600 35300]\n",
      "[1.26470098e+01 1.50895402e+04]\n",
      "cosa multiplicando a x: 12.647009826787855\n"
     ]
    },
    {
     "data": {
      "image/png": "[encoded data removed]",
      "text/plain": [
       "<Figure size 432x288 with 1 Axes>"
      ]
     },
     "metadata": {
      "needs_background": "light"
     },
     "output_type": "display_data"
    }
   ],
   "source": [
    "datasinmediaAna = np.loadtxt(\"vector_DyV.log\")\n",
    "\n",
    "mediasAna = np.empty(50)\n",
    "for j in range(50):\n",
    "    mediasAna[j]=np.mean(datasinmediaAna[j*100:(j+1)*100,1])\n",
    "print(mediasAna)\n",
    "\n",
    "datos = np.arange(1000,36000,700)\n",
    "print(datos)\n",
    "\n",
    "coefsAna = np.polyfit(datos[:], mediasAna[:], 1)\n",
    "print(coefsAna)\n",
    "\n",
    "yAna = coefsAna[0]*datos+coefsAna[1]\n",
    "print(\"cosa multiplicando a x:\",coefsAna[0])\n",
    "\n",
    "plt.figure()\n",
    "\n",
    "plt.plot(datos[:], mediasAna[:], color=\"blue\", marker=\"x\", ls=\"none\", label=\"Datos\")\n",
    "\n",
    "plt.legend(loc=\"best\")\n",
    "plt.xlabel(\"Tamaño\")\n",
    "plt.ylabel(\"Tiempo(ns)\")\n",
    "plt.tight_layout()\n",
    "plt.savefig(\"vector_empirica_DyV.png\", dpi=600)\n",
    "plt.show()"
   ]
  },
  {
   "cell_type": "code",
   "execution_count": 48,
   "metadata": {},
   "outputs": [
    {
     "name": "stdout",
     "output_type": "stream",
     "text": [
      "[ 11076.9   17406.26  23426.59  31001.05  38677.94  45342.96  51058.87\n",
      "  59485.72  64576.2   70536.66  77474.99  83593.76  89221.96  95340.16\n",
      " 103956.4  107475.53 115099.34 121971.32 124138.54 134267.3  138060.31\n",
      " 146197.98 151597.84 152290.61 165665.5  164865.84 187533.82 181914.34\n",
      " 190996.07 189679.07 200292.65 200212.71 211529.02 212739.45 215036.65\n",
      " 217209.97 226801.95 233866.44 237713.11 242681.09 250556.97 257580.54\n",
      " 262190.64 267327.37 273388.29 280961.35 284962.92 292940.2  297618.28\n",
      " 300502.62]\n",
      "[ 17124.41  29248.43  41952.34  53449.67  58703.59  63887.05  78738.89\n",
      " 102182.14 108114.56 114577.42 124062.86 118395.54 130194.81 142474.06\n",
      " 151641.5  163974.56 176395.61 179478.75 182739.59 193834.29 195088.25\n",
      " 203249.08 211291.24 225605.21 239432.45 243737.73 262712.63 270800.09\n",
      " 276985.77 293789.68 302751.95 324750.38 332130.61 338556.47 339450.7\n",
      " 346985.78 351615.95 355759.7  363887.49 368805.91 377582.62 382984.75\n",
      " 390604.6  397581.34 406711.62 413452.25 427352.46 437596.57 449180.3\n",
      " 470034.78]\n",
      "[ 1000  1700  2400  3100  3800  4500  5200  5900  6600  7300  8000  8700\n",
      "  9400 10100 10800 11500 12200 12900 13600 14300 15000 15700 16400 17100\n",
      " 17800 18500 19200 19900 20600 21300 22000 22700 23400 24100 24800 25500\n",
      " 26200 26900 27600 28300 29000 29700 30400 31100 31800 32500 33200 33900\n",
      " 34600 35300]\n",
      "[8.37188423e+00 1.00511421e+04]\n",
      "[1.26470098e+01 1.50895402e+04]\n"
     ]
    },
    {
     "data": {
      "image/png": "[encoded data removed]",
      "text/plain": [
       "<Figure size 432x288 with 1 Axes>"
      ]
     },
     "metadata": {
      "needs_background": "light"
     },
     "output_type": "display_data"
    }
   ],
   "source": [
    "datasinmediaAna = np.loadtxt(\"vector_usual.log\")\n",
    "mediasAna = np.empty(50)\n",
    "for j in range(50):\n",
    "    mediasAna[j]=np.mean(datasinmediaAna[j*100:(j+1)*100,1])\n",
    "print(mediasAna)\n",
    "\n",
    "\n",
    "datasinmediaAndres = np.loadtxt(\"vector_DyV.log\")\n",
    "mediasAndres = np.empty(50)\n",
    "\n",
    "for j in range(50):\n",
    "    mediasAndres[j]=np.mean(datasinmediaAndres[j*100:(j+1)*100,1])\n",
    "print(mediasAndres)\n",
    "\n",
    "\n",
    "datos = np.arange(1000,36000,700)\n",
    "print(datos)\n",
    "\n",
    "coefsAna = np.polyfit(datos[:], mediasAna[:], 1)\n",
    "print(coefsAna)\n",
    "\n",
    "coefsAndres = np.polyfit(datos[:], mediasAndres[:], 1)\n",
    "print(coefsAndres)\n",
    "\n",
    "yAna = coefsAna[0]*datos+coefsAna[1]\n",
    "\n",
    "yAndres = coefsAndres[0]*datos+coefsAndres[1]\n",
    "\n",
    "plt.figure()\n",
    "\n",
    "plt.plot(datos,yAna,label=\"Regresión sin DyV\")\n",
    "plt.plot(datos,yAndres,label=\"Regresión DyV\")\n",
    "\n",
    "\n",
    "plt.plot(datos[:], mediasAna[:], color=\"blue\", marker=\"x\", ls=\"none\", label=\"Datos sin DyV\")\n",
    "\n",
    "plt.plot(datos[:], mediasAndres[:], color=\"orange\", marker=\"x\", ls=\"none\", label=\"Datos con DyV\")\n",
    "\n",
    "plt.legend(loc=\"best\")\n",
    "plt.xlabel(\"Tamaño\")\n",
    "plt.ylabel(\"Tiempo (ms)\")\n",
    "plt.tight_layout()\n",
    "plt.savefig(\"vector_empirica_regresion_ambas.png\", dpi=600)\n",
    "plt.show()"
   ]
  },
  {
   "cell_type": "code",
   "execution_count": 47,
   "metadata": {},
   "outputs": [
    {
     "name": "stdout",
     "output_type": "stream",
     "text": [
      "Medias usual: [1.37266667e+03 1.98533333e+03 3.65933333e+03 9.16466667e+03\n",
      " 2.28833333e+04 6.92426667e+04 3.04148000e+05 1.01566100e+06\n",
      " 3.83900300e+06 1.40489790e+07]\n",
      "Medias DyV: [4.90000000e+02 7.92000000e+02 2.62266667e+03 1.13843333e+04\n",
      " 3.77620000e+04 1.77945000e+05 8.21086333e+05 3.36851900e+06\n",
      " 1.37909103e+07 5.88776273e+07]\n",
      "Datos: [4, 16, 64, 256, 1024, 4096, 16384, 65536, 262144, 1048576]\n",
      "Ajuste usual:  [1.34129484e+01 5.63455857e+04]\n",
      "Ajuste DyV:  [ 5.60805807e+01 -1.31712085e+05]\n"
     ]
    },
    {
     "ename": "ValueError",
     "evalue": "x and y must have same first dimension, but have shapes (10,) and (3,)",
     "output_type": "error",
     "traceback": [
      "\u001b[0;31m---------------------------------------------------------------------------\u001b[0m",
      "\u001b[0;31mValueError\u001b[0m                                Traceback (most recent call last)",
      "\u001b[0;32m<ipython-input-47-a6d1522254c7>\u001b[0m in \u001b[0;36m<module>\u001b[0;34m\u001b[0m\n\u001b[1;32m     32\u001b[0m \u001b[0mplt\u001b[0m\u001b[0;34m.\u001b[0m\u001b[0mfigure\u001b[0m\u001b[0;34m(\u001b[0m\u001b[0;34m)\u001b[0m\u001b[0;34m\u001b[0m\u001b[0;34m\u001b[0m\u001b[0m\n\u001b[1;32m     33\u001b[0m \u001b[0;34m\u001b[0m\u001b[0m\n\u001b[0;32m---> 34\u001b[0;31m \u001b[0mplt\u001b[0m\u001b[0;34m.\u001b[0m\u001b[0mplot\u001b[0m\u001b[0;34m(\u001b[0m\u001b[0mdatos\u001b[0m\u001b[0;34m,\u001b[0m\u001b[0myAna\u001b[0m\u001b[0;34m,\u001b[0m\u001b[0mlabel\u001b[0m\u001b[0;34m=\u001b[0m\u001b[0;34m\"Regresión sin DyV\"\u001b[0m\u001b[0;34m)\u001b[0m\u001b[0;34m\u001b[0m\u001b[0;34m\u001b[0m\u001b[0m\n\u001b[0m\u001b[1;32m     35\u001b[0m \u001b[0mplt\u001b[0m\u001b[0;34m.\u001b[0m\u001b[0mplot\u001b[0m\u001b[0;34m(\u001b[0m\u001b[0mdatos\u001b[0m\u001b[0;34m,\u001b[0m\u001b[0myAndres\u001b[0m\u001b[0;34m,\u001b[0m\u001b[0mlabel\u001b[0m\u001b[0;34m=\u001b[0m\u001b[0;34m\"Regresión DyV\"\u001b[0m\u001b[0;34m)\u001b[0m\u001b[0;34m\u001b[0m\u001b[0;34m\u001b[0m\u001b[0m\n\u001b[1;32m     36\u001b[0m \u001b[0;34m\u001b[0m\u001b[0m\n",
      "\u001b[0;32m/usr/lib/python3.7/site-packages/matplotlib/pyplot.py\u001b[0m in \u001b[0;36mplot\u001b[0;34m(scalex, scaley, data, *args, **kwargs)\u001b[0m\n\u001b[1;32m   2809\u001b[0m     return gca().plot(\n\u001b[1;32m   2810\u001b[0m         *args, scalex=scalex, scaley=scaley, **({\"data\": data} if data\n\u001b[0;32m-> 2811\u001b[0;31m         is not None else {}), **kwargs)\n\u001b[0m\u001b[1;32m   2812\u001b[0m \u001b[0;34m\u001b[0m\u001b[0m\n\u001b[1;32m   2813\u001b[0m \u001b[0;34m\u001b[0m\u001b[0m\n",
      "\u001b[0;32m/usr/lib/python3.7/site-packages/matplotlib/__init__.py\u001b[0m in \u001b[0;36minner\u001b[0;34m(ax, data, *args, **kwargs)\u001b[0m\n\u001b[1;32m   1808\u001b[0m                         \u001b[0;34m\"the Matplotlib list!)\"\u001b[0m \u001b[0;34m%\u001b[0m \u001b[0;34m(\u001b[0m\u001b[0mlabel_namer\u001b[0m\u001b[0;34m,\u001b[0m \u001b[0mfunc\u001b[0m\u001b[0;34m.\u001b[0m\u001b[0m__name__\u001b[0m\u001b[0;34m)\u001b[0m\u001b[0;34m,\u001b[0m\u001b[0;34m\u001b[0m\u001b[0;34m\u001b[0m\u001b[0m\n\u001b[1;32m   1809\u001b[0m                         RuntimeWarning, stacklevel=2)\n\u001b[0;32m-> 1810\u001b[0;31m             \u001b[0;32mreturn\u001b[0m \u001b[0mfunc\u001b[0m\u001b[0;34m(\u001b[0m\u001b[0max\u001b[0m\u001b[0;34m,\u001b[0m \u001b[0;34m*\u001b[0m\u001b[0margs\u001b[0m\u001b[0;34m,\u001b[0m \u001b[0;34m**\u001b[0m\u001b[0mkwargs\u001b[0m\u001b[0;34m)\u001b[0m\u001b[0;34m\u001b[0m\u001b[0;34m\u001b[0m\u001b[0m\n\u001b[0m\u001b[1;32m   1811\u001b[0m \u001b[0;34m\u001b[0m\u001b[0m\n\u001b[1;32m   1812\u001b[0m         inner.__doc__ = _add_data_doc(inner.__doc__,\n",
      "\u001b[0;32m/usr/lib/python3.7/site-packages/matplotlib/axes/_axes.py\u001b[0m in \u001b[0;36mplot\u001b[0;34m(self, scalex, scaley, *args, **kwargs)\u001b[0m\n\u001b[1;32m   1609\u001b[0m         \u001b[0mkwargs\u001b[0m \u001b[0;34m=\u001b[0m \u001b[0mcbook\u001b[0m\u001b[0;34m.\u001b[0m\u001b[0mnormalize_kwargs\u001b[0m\u001b[0;34m(\u001b[0m\u001b[0mkwargs\u001b[0m\u001b[0;34m,\u001b[0m \u001b[0mmlines\u001b[0m\u001b[0;34m.\u001b[0m\u001b[0mLine2D\u001b[0m\u001b[0;34m.\u001b[0m\u001b[0m_alias_map\u001b[0m\u001b[0;34m)\u001b[0m\u001b[0;34m\u001b[0m\u001b[0;34m\u001b[0m\u001b[0m\n\u001b[1;32m   1610\u001b[0m \u001b[0;34m\u001b[0m\u001b[0m\n\u001b[0;32m-> 1611\u001b[0;31m         \u001b[0;32mfor\u001b[0m \u001b[0mline\u001b[0m \u001b[0;32min\u001b[0m \u001b[0mself\u001b[0m\u001b[0;34m.\u001b[0m\u001b[0m_get_lines\u001b[0m\u001b[0;34m(\u001b[0m\u001b[0;34m*\u001b[0m\u001b[0margs\u001b[0m\u001b[0;34m,\u001b[0m \u001b[0;34m**\u001b[0m\u001b[0mkwargs\u001b[0m\u001b[0;34m)\u001b[0m\u001b[0;34m:\u001b[0m\u001b[0;34m\u001b[0m\u001b[0;34m\u001b[0m\u001b[0m\n\u001b[0m\u001b[1;32m   1612\u001b[0m             \u001b[0mself\u001b[0m\u001b[0;34m.\u001b[0m\u001b[0madd_line\u001b[0m\u001b[0;34m(\u001b[0m\u001b[0mline\u001b[0m\u001b[0;34m)\u001b[0m\u001b[0;34m\u001b[0m\u001b[0;34m\u001b[0m\u001b[0m\n\u001b[1;32m   1613\u001b[0m             \u001b[0mlines\u001b[0m\u001b[0;34m.\u001b[0m\u001b[0mappend\u001b[0m\u001b[0;34m(\u001b[0m\u001b[0mline\u001b[0m\u001b[0;34m)\u001b[0m\u001b[0;34m\u001b[0m\u001b[0;34m\u001b[0m\u001b[0m\n",
      "\u001b[0;32m/usr/lib/python3.7/site-packages/matplotlib/axes/_base.py\u001b[0m in \u001b[0;36m_grab_next_args\u001b[0;34m(self, *args, **kwargs)\u001b[0m\n\u001b[1;32m    391\u001b[0m                 \u001b[0mthis\u001b[0m \u001b[0;34m+=\u001b[0m \u001b[0margs\u001b[0m\u001b[0;34m[\u001b[0m\u001b[0;36m0\u001b[0m\u001b[0;34m]\u001b[0m\u001b[0;34m,\u001b[0m\u001b[0;34m\u001b[0m\u001b[0;34m\u001b[0m\u001b[0m\n\u001b[1;32m    392\u001b[0m                 \u001b[0margs\u001b[0m \u001b[0;34m=\u001b[0m \u001b[0margs\u001b[0m\u001b[0;34m[\u001b[0m\u001b[0;36m1\u001b[0m\u001b[0;34m:\u001b[0m\u001b[0;34m]\u001b[0m\u001b[0;34m\u001b[0m\u001b[0;34m\u001b[0m\u001b[0m\n\u001b[0;32m--> 393\u001b[0;31m             \u001b[0;32myield\u001b[0m \u001b[0;32mfrom\u001b[0m \u001b[0mself\u001b[0m\u001b[0;34m.\u001b[0m\u001b[0m_plot_args\u001b[0m\u001b[0;34m(\u001b[0m\u001b[0mthis\u001b[0m\u001b[0;34m,\u001b[0m \u001b[0mkwargs\u001b[0m\u001b[0;34m)\u001b[0m\u001b[0;34m\u001b[0m\u001b[0;34m\u001b[0m\u001b[0m\n\u001b[0m\u001b[1;32m    394\u001b[0m \u001b[0;34m\u001b[0m\u001b[0m\n\u001b[1;32m    395\u001b[0m \u001b[0;34m\u001b[0m\u001b[0m\n",
      "\u001b[0;32m/usr/lib/python3.7/site-packages/matplotlib/axes/_base.py\u001b[0m in \u001b[0;36m_plot_args\u001b[0;34m(self, tup, kwargs)\u001b[0m\n\u001b[1;32m    368\u001b[0m             \u001b[0mx\u001b[0m\u001b[0;34m,\u001b[0m \u001b[0my\u001b[0m \u001b[0;34m=\u001b[0m \u001b[0mindex_of\u001b[0m\u001b[0;34m(\u001b[0m\u001b[0mtup\u001b[0m\u001b[0;34m[\u001b[0m\u001b[0;34m-\u001b[0m\u001b[0;36m1\u001b[0m\u001b[0;34m]\u001b[0m\u001b[0;34m)\u001b[0m\u001b[0;34m\u001b[0m\u001b[0;34m\u001b[0m\u001b[0m\n\u001b[1;32m    369\u001b[0m \u001b[0;34m\u001b[0m\u001b[0m\n\u001b[0;32m--> 370\u001b[0;31m         \u001b[0mx\u001b[0m\u001b[0;34m,\u001b[0m \u001b[0my\u001b[0m \u001b[0;34m=\u001b[0m \u001b[0mself\u001b[0m\u001b[0;34m.\u001b[0m\u001b[0m_xy_from_xy\u001b[0m\u001b[0;34m(\u001b[0m\u001b[0mx\u001b[0m\u001b[0;34m,\u001b[0m \u001b[0my\u001b[0m\u001b[0;34m)\u001b[0m\u001b[0;34m\u001b[0m\u001b[0;34m\u001b[0m\u001b[0m\n\u001b[0m\u001b[1;32m    371\u001b[0m \u001b[0;34m\u001b[0m\u001b[0m\n\u001b[1;32m    372\u001b[0m         \u001b[0;32mif\u001b[0m \u001b[0mself\u001b[0m\u001b[0;34m.\u001b[0m\u001b[0mcommand\u001b[0m \u001b[0;34m==\u001b[0m \u001b[0;34m'plot'\u001b[0m\u001b[0;34m:\u001b[0m\u001b[0;34m\u001b[0m\u001b[0;34m\u001b[0m\u001b[0m\n",
      "\u001b[0;32m/usr/lib/python3.7/site-packages/matplotlib/axes/_base.py\u001b[0m in \u001b[0;36m_xy_from_xy\u001b[0;34m(self, x, y)\u001b[0m\n\u001b[1;32m    229\u001b[0m         \u001b[0;32mif\u001b[0m \u001b[0mx\u001b[0m\u001b[0;34m.\u001b[0m\u001b[0mshape\u001b[0m\u001b[0;34m[\u001b[0m\u001b[0;36m0\u001b[0m\u001b[0;34m]\u001b[0m \u001b[0;34m!=\u001b[0m \u001b[0my\u001b[0m\u001b[0;34m.\u001b[0m\u001b[0mshape\u001b[0m\u001b[0;34m[\u001b[0m\u001b[0;36m0\u001b[0m\u001b[0;34m]\u001b[0m\u001b[0;34m:\u001b[0m\u001b[0;34m\u001b[0m\u001b[0;34m\u001b[0m\u001b[0m\n\u001b[1;32m    230\u001b[0m             raise ValueError(\"x and y must have same first dimension, but \"\n\u001b[0;32m--> 231\u001b[0;31m                              \"have shapes {} and {}\".format(x.shape, y.shape))\n\u001b[0m\u001b[1;32m    232\u001b[0m         \u001b[0;32mif\u001b[0m \u001b[0mx\u001b[0m\u001b[0;34m.\u001b[0m\u001b[0mndim\u001b[0m \u001b[0;34m>\u001b[0m \u001b[0;36m2\u001b[0m \u001b[0;32mor\u001b[0m \u001b[0my\u001b[0m\u001b[0;34m.\u001b[0m\u001b[0mndim\u001b[0m \u001b[0;34m>\u001b[0m \u001b[0;36m2\u001b[0m\u001b[0;34m:\u001b[0m\u001b[0;34m\u001b[0m\u001b[0;34m\u001b[0m\u001b[0m\n\u001b[1;32m    233\u001b[0m             raise ValueError(\"x and y can be no greater than 2-D, but have \"\n",
      "\u001b[0;31mValueError\u001b[0m: x and y must have same first dimension, but have shapes (10,) and (3,)"
     ]
    },
    {
     "data": {
      "image/png": "[encoded data removed]",
      "text/plain": [
       "<Figure size 432x288 with 1 Axes>"
      ]
     },
     "metadata": {
      "needs_background": "light"
     },
     "output_type": "display_data"
    }
   ],
   "source": [
    "datasinmediaAna = np.loadtxt(\"traspuesta_usual.log\")\n",
    "mediasAna = np.empty(10)\n",
    "\n",
    "for j in range(10):\n",
    "    mediasAna[j] = np.mean(datasinmediaAna[j*3:(j+1)*3,1])\n",
    "print(\"Medias usual:\", mediasAna)\n",
    "\n",
    "\n",
    "datasinmediaAndres = np.loadtxt(\"traspuesta_DyV.log\")\n",
    "mediasAndres       = np.empty(10)\n",
    "\n",
    "for j in range(10):\n",
    "    mediasAndres[j] = np.mean(datasinmediaAndres[j*3:(j+1)*3,1])\n",
    "print(\"Medias DyV:\", mediasAndres)\n",
    "\n",
    "\n",
    "datos = [4,16,64,256,1024,4096,16384,65536,262144,1048576]\n",
    "print(\"Datos:\", datos)\n",
    "\n",
    "coefsAna = np.polyfit(datos[:], mediasAna[:], 1)\n",
    "print(\"Ajuste usual: \", coefsAna)\n",
    "\n",
    "coefsAndres = np.polyfit(datos[:], mediasAndres[:], 1)\n",
    "print(\"Ajuste DyV: \", coefsAndres)\n",
    "\n",
    "#yAna = coefsAna[0]*datos+coefsAna[1]\n",
    "\n",
    "#yAndres = coefsAndres[0]*datos+coefsAndres[1]\n",
    "\n",
    "plt.figure()\n",
    "\n",
    "plt.plot(datos,yAna,label=\"Regresión sin DyV\")\n",
    "plt.plot(datos,yAndres,label=\"Regresión DyV\")\n",
    "\n",
    "\n",
    "plt.plot(datos[:], mediasAna[:], color=\"blue\", marker=\"x\", ls=\"none\", label=\"Datos sin DyV\")\n",
    "\n",
    "plt.plot(datos[:], mediasAndres[:], color=\"orange\", marker=\"x\", ls=\"none\", label=\"Datos con DyV\")\n",
    "\n",
    "plt.legend(loc=\"best\")\n",
    "plt.xlabel(\"Tamaño\")\n",
    "plt.ylabel(\"Tiempo (ns)\")\n",
    "plt.tight_layout()\n",
    "#plt.savefig(\"traspuesta_empirica_regresion_ambas.png\", dpi=600)\n",
    "plt.show()"
   ]
  },
  {
   "cell_type": "code",
   "execution_count": 50,
   "metadata": {},
   "outputs": [
    {
     "name": "stdout",
     "output_type": "stream",
     "text": [
      "[1.37266667e+03 1.98533333e+03 3.65933333e+03 9.16466667e+03\n",
      " 2.28833333e+04 6.92426667e+04 3.04148000e+05 1.01566100e+06\n",
      " 3.83900300e+06 1.40489790e+07]\n",
      "[4, 16, 64, 256, 1024, 4096, 16384, 65536, 262144, 1048576]\n",
      "[4.90000000e+02 7.92000000e+02 2.62266667e+03 1.13843333e+04\n",
      " 3.77620000e+04 1.77945000e+05 8.21086333e+05 3.36851900e+06\n",
      " 1.37909103e+07 5.88776273e+07]\n",
      "[4, 16, 64, 256, 1024, 4096, 16384, 65536, 262144, 1048576]\n"
     ]
    },
    {
     "data": {
      "image/png": "[encoded data removed]",
      "text/plain": [
       "<Figure size 432x288 with 1 Axes>"
      ]
     },
     "metadata": {
      "needs_background": "light"
     },
     "output_type": "display_data"
    }
   ],
   "source": [
    "datos_usual = np.loadtxt(\"traspuesta_usual.log\")\n",
    "medias_usual = np.empty(10)\n",
    "\n",
    "for j in range(10):\n",
    "    medias_usual[j]=np.mean(datos_usual[j*3:(j+1)*3,1])\n",
    "print(medias_usual)\n",
    "\n",
    "datos_usual = [4,16,64,256,1024,4096,16384,65536,262144,1048576]\n",
    "print(datos_usual)\n",
    "\n",
    "datos_DyV = np.loadtxt(\"traspuesta_DyV.log\")\n",
    "medias_DyV = np.empty(10)\n",
    "\n",
    "for j in range(10):\n",
    "    medias_DyV[j]=np.mean(datos_DyV[j*3:(j+1)*3,1])\n",
    "print(medias_DyV)\n",
    "\n",
    "datos_DyV = [4,16,64,256,1024,4096,16384,65536,262144,1048576]\n",
    "print(datos_DyV)\n",
    "\n",
    "\n",
    "plt.figure()\n",
    "\n",
    "plt.plot(datos_usual[:], medias_usual[:], color=\"blue\", marker=\"x\", ls=\"none\", label=\"datos_usual\")\n",
    "plt.plot(datos_DyV[:], medias_DyV[:], color=\"orange\", marker=\"x\", ls=\"none\", label=\"datos_DyV\")\n",
    "plt.legend(loc=\"best\")\n",
    "plt.xlabel(\"Tamaño\")\n",
    "plt.ylabel(\"Tiempo (ns)\")\n",
    "plt.tight_layout()\n",
    "plt.savefig(\"matriz_empirica_comparacion.png\", dpi=600)\n",
    "plt.show()"
   ]
  }
 ],
 "metadata": {
  "kernelspec": {
   "display_name": "Python 3",
   "language": "python",
   "name": "python3"
  },
  "language_info": {
   "codemirror_mode": {
    "name": "ipython",
    "version": 3
   },
   "file_extension": ".py",
   "mimetype": "text/x-python",
   "name": "python",
   "nbconvert_exporter": "python",
   "pygments_lexer": "ipython3",
   "version": "3.7.3"
  }
 },
 "nbformat": 4,
 "nbformat_minor": 2
}
